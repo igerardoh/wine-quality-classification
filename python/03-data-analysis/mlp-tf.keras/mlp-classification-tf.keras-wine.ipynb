{
 "cells": [
  {
   "cell_type": "markdown",
   "metadata": {},
   "source": [
    "# Wine Quality Classifier"
   ]
  },
  {
   "cell_type": "markdown",
   "metadata": {},
   "source": [
    "<p><b>Status: <span style=color:orange;>In process</span></b></p>"
   ]
  },
  {
   "cell_type": "markdown",
   "metadata": {},
   "source": [
    "##### LOAD THE FEATURE DATA"
   ]
  },
  {
   "cell_type": "code",
   "execution_count": 1,
   "metadata": {},
   "outputs": [
    {
     "name": "stdout",
     "output_type": "stream",
     "text": [
      "Feature data, shape:\n",
      "X: (178, 13)\n"
     ]
    },
    {
     "data": {
      "text/html": [
       "<div>\n",
       "<style scoped>\n",
       "    .dataframe tbody tr th:only-of-type {\n",
       "        vertical-align: middle;\n",
       "    }\n",
       "\n",
       "    .dataframe tbody tr th {\n",
       "        vertical-align: top;\n",
       "    }\n",
       "\n",
       "    .dataframe thead th {\n",
       "        text-align: right;\n",
       "    }\n",
       "</style>\n",
       "<table border=\"1\" class=\"dataframe\">\n",
       "  <thead>\n",
       "    <tr style=\"text-align: right;\">\n",
       "      <th></th>\n",
       "      <th>Alcohol</th>\n",
       "      <th>Malic_acid</th>\n",
       "      <th>Ash</th>\n",
       "      <th>Alcalinity</th>\n",
       "      <th>Magnesium</th>\n",
       "      <th>Total_phenols</th>\n",
       "      <th>Flavanoids</th>\n",
       "      <th>Nonflavanoid_phenols</th>\n",
       "      <th>Proanthocyanins</th>\n",
       "      <th>Color_intensity</th>\n",
       "      <th>Hue</th>\n",
       "      <th>OD280_OD315</th>\n",
       "      <th>Proline</th>\n",
       "    </tr>\n",
       "  </thead>\n",
       "  <tbody>\n",
       "    <tr>\n",
       "      <th>0</th>\n",
       "      <td>1.518613</td>\n",
       "      <td>-0.562250</td>\n",
       "      <td>0.232053</td>\n",
       "      <td>-1.169593</td>\n",
       "      <td>1.913905</td>\n",
       "      <td>0.808997</td>\n",
       "      <td>1.034819</td>\n",
       "      <td>-0.659563</td>\n",
       "      <td>1.224884</td>\n",
       "      <td>0.251717</td>\n",
       "      <td>0.362177</td>\n",
       "      <td>1.847920</td>\n",
       "      <td>1.013009</td>\n",
       "    </tr>\n",
       "    <tr>\n",
       "      <th>1</th>\n",
       "      <td>0.246290</td>\n",
       "      <td>-0.499413</td>\n",
       "      <td>-0.827996</td>\n",
       "      <td>-2.490847</td>\n",
       "      <td>0.018145</td>\n",
       "      <td>0.568648</td>\n",
       "      <td>0.733629</td>\n",
       "      <td>-0.820719</td>\n",
       "      <td>-0.544721</td>\n",
       "      <td>-0.293321</td>\n",
       "      <td>0.406051</td>\n",
       "      <td>1.113449</td>\n",
       "      <td>0.965242</td>\n",
       "    </tr>\n",
       "    <tr>\n",
       "      <th>2</th>\n",
       "      <td>0.196879</td>\n",
       "      <td>0.021231</td>\n",
       "      <td>1.109334</td>\n",
       "      <td>-0.268738</td>\n",
       "      <td>0.088358</td>\n",
       "      <td>0.808997</td>\n",
       "      <td>1.215533</td>\n",
       "      <td>-0.498407</td>\n",
       "      <td>2.135968</td>\n",
       "      <td>0.269020</td>\n",
       "      <td>0.318304</td>\n",
       "      <td>0.788587</td>\n",
       "      <td>1.395148</td>\n",
       "    </tr>\n",
       "    <tr>\n",
       "      <th>3</th>\n",
       "      <td>1.691550</td>\n",
       "      <td>-0.346811</td>\n",
       "      <td>0.487926</td>\n",
       "      <td>-0.809251</td>\n",
       "      <td>0.930918</td>\n",
       "      <td>2.491446</td>\n",
       "      <td>1.466525</td>\n",
       "      <td>-0.981875</td>\n",
       "      <td>1.032155</td>\n",
       "      <td>1.186068</td>\n",
       "      <td>-0.427544</td>\n",
       "      <td>1.184071</td>\n",
       "      <td>2.334574</td>\n",
       "    </tr>\n",
       "    <tr>\n",
       "      <th>4</th>\n",
       "      <td>0.295700</td>\n",
       "      <td>0.227694</td>\n",
       "      <td>1.840403</td>\n",
       "      <td>0.451946</td>\n",
       "      <td>1.281985</td>\n",
       "      <td>0.808997</td>\n",
       "      <td>0.663351</td>\n",
       "      <td>0.226796</td>\n",
       "      <td>0.401404</td>\n",
       "      <td>-0.319276</td>\n",
       "      <td>0.362177</td>\n",
       "      <td>0.449601</td>\n",
       "      <td>-0.037874</td>\n",
       "    </tr>\n",
       "  </tbody>\n",
       "</table>\n",
       "</div>"
      ],
      "text/plain": [
       "    Alcohol  Malic_acid       Ash  Alcalinity  Magnesium  Total_phenols  \\\n",
       "0  1.518613   -0.562250  0.232053   -1.169593   1.913905       0.808997   \n",
       "1  0.246290   -0.499413 -0.827996   -2.490847   0.018145       0.568648   \n",
       "2  0.196879    0.021231  1.109334   -0.268738   0.088358       0.808997   \n",
       "3  1.691550   -0.346811  0.487926   -0.809251   0.930918       2.491446   \n",
       "4  0.295700    0.227694  1.840403    0.451946   1.281985       0.808997   \n",
       "\n",
       "   Flavanoids  Nonflavanoid_phenols  Proanthocyanins  Color_intensity  \\\n",
       "0    1.034819             -0.659563         1.224884         0.251717   \n",
       "1    0.733629             -0.820719        -0.544721        -0.293321   \n",
       "2    1.215533             -0.498407         2.135968         0.269020   \n",
       "3    1.466525             -0.981875         1.032155         1.186068   \n",
       "4    0.663351              0.226796         0.401404        -0.319276   \n",
       "\n",
       "        Hue  OD280_OD315   Proline  \n",
       "0  0.362177     1.847920  1.013009  \n",
       "1  0.406051     1.113449  0.965242  \n",
       "2  0.318304     0.788587  1.395148  \n",
       "3 -0.427544     1.184071  2.334574  \n",
       "4  0.362177     0.449601 -0.037874  "
      ]
     },
     "execution_count": 1,
     "metadata": {},
     "output_type": "execute_result"
    }
   ],
   "source": [
    "import pandas as pd\n",
    "import numpy as np\n",
    "\n",
    "X = pd.read_csv('../../02-data-preprocessing/output/preprocessed_data/X.csv', sep=',')\n",
    "\n",
    "print ('Feature data, shape:\\nX: {}'.format(X.shape))\n",
    "X.head()"
   ]
  },
  {
   "cell_type": "markdown",
   "metadata": {},
   "source": [
    "##### DATA OVERVIEW"
   ]
  },
  {
   "cell_type": "code",
   "execution_count": 2,
   "metadata": {},
   "outputs": [
    {
     "name": "stdout",
     "output_type": "stream",
     "text": [
      "Target data, shape:\n",
      "y: (178, 13)\n"
     ]
    },
    {
     "data": {
      "text/html": [
       "<div>\n",
       "<style scoped>\n",
       "    .dataframe tbody tr th:only-of-type {\n",
       "        vertical-align: middle;\n",
       "    }\n",
       "\n",
       "    .dataframe tbody tr th {\n",
       "        vertical-align: top;\n",
       "    }\n",
       "\n",
       "    .dataframe thead th {\n",
       "        text-align: right;\n",
       "    }\n",
       "</style>\n",
       "<table border=\"1\" class=\"dataframe\">\n",
       "  <thead>\n",
       "    <tr style=\"text-align: right;\">\n",
       "      <th></th>\n",
       "      <th>1</th>\n",
       "      <th>2</th>\n",
       "      <th>3</th>\n",
       "    </tr>\n",
       "  </thead>\n",
       "  <tbody>\n",
       "    <tr>\n",
       "      <th>0</th>\n",
       "      <td>1</td>\n",
       "      <td>0</td>\n",
       "      <td>0</td>\n",
       "    </tr>\n",
       "    <tr>\n",
       "      <th>1</th>\n",
       "      <td>1</td>\n",
       "      <td>0</td>\n",
       "      <td>0</td>\n",
       "    </tr>\n",
       "    <tr>\n",
       "      <th>2</th>\n",
       "      <td>1</td>\n",
       "      <td>0</td>\n",
       "      <td>0</td>\n",
       "    </tr>\n",
       "    <tr>\n",
       "      <th>3</th>\n",
       "      <td>1</td>\n",
       "      <td>0</td>\n",
       "      <td>0</td>\n",
       "    </tr>\n",
       "    <tr>\n",
       "      <th>4</th>\n",
       "      <td>1</td>\n",
       "      <td>0</td>\n",
       "      <td>0</td>\n",
       "    </tr>\n",
       "  </tbody>\n",
       "</table>\n",
       "</div>"
      ],
      "text/plain": [
       "   1  2  3\n",
       "0  1  0  0\n",
       "1  1  0  0\n",
       "2  1  0  0\n",
       "3  1  0  0\n",
       "4  1  0  0"
      ]
     },
     "execution_count": 2,
     "metadata": {},
     "output_type": "execute_result"
    }
   ],
   "source": [
    "y = pd.read_csv('../../02-data-preprocessing/output/preprocessed_data/y.csv', sep=',')\n",
    "\n",
    "print ('Target data, shape:\\ny: {}'.format(X.shape))\n",
    "y.head()"
   ]
  },
  {
   "cell_type": "markdown",
   "metadata": {},
   "source": [
    "##### SPLIT THE DATA"
   ]
  },
  {
   "cell_type": "code",
   "execution_count": 3,
   "metadata": {},
   "outputs": [
    {
     "name": "stdout",
     "output_type": "stream",
     "text": [
      "Data shapes:\n",
      "\n",
      "X_train : (142, 13)\n",
      "y_train : (142, 3)\n",
      "\n",
      "X_test : (36, 13)\n",
      "y_test : (36, 3)\n"
     ]
    }
   ],
   "source": [
    "from sklearn.model_selection import train_test_split\n",
    "\n",
    "# set the seed for reproducibility\n",
    "np.random.seed(127)\n",
    "\n",
    "# split the dataset into 2 training and 2 testing sets\n",
    "X_train, X_test, y_train, y_test = train_test_split(X.values, y.values, test_size=0.2, random_state=13)\n",
    "\n",
    "print('Data shapes:\\n')\n",
    "print('X_train : {}\\ny_train : {}\\n\\nX_test : {}\\ny_test : {}'.format(np.shape(X_train),\n",
    "                                                                      np.shape(y_train),\n",
    "                                                                      np.shape(X_test),\n",
    "                                                                      np.shape(y_test)))"
   ]
  },
  {
   "cell_type": "markdown",
   "metadata": {},
   "source": [
    "##### DEFINE NETWORK PARAMETERS"
   ]
  },
  {
   "cell_type": "code",
   "execution_count": 4,
   "metadata": {},
   "outputs": [],
   "source": [
    "# define number of attributes\n",
    "n_features = X_train.shape[1]    \n",
    "n_classes = y_train.shape[1]\n",
    "\n",
    "# count number of samples in each set of data\n",
    "n_train = X_train.shape[0]\n",
    "n_test = X_test.shape[0]\n",
    "\n",
    "# define amount of neurons\n",
    "n_layer_in = n_features  # 11 neurons in input layer\n",
    "n_layer_h1 = 50          # first   hidden layer\n",
    "n_layer_h2 = 50          # second  hidden layer\n",
    "n_layer_out = n_classes  # 7 neurons in input layer\n",
    "\n",
    "sigma_init = 0.01   # For randomized initialization"
   ]
  },
  {
   "cell_type": "markdown",
   "metadata": {},
   "source": [
    "##### MODEL ARCHITECTURE"
   ]
  },
  {
   "cell_type": "code",
   "execution_count": 5,
   "metadata": {
    "scrolled": false
   },
   "outputs": [
    {
     "name": "stdout",
     "output_type": "stream",
     "text": [
      "Model: \"sequential\"\n",
      "_________________________________________________________________\n",
      "Layer (type)                 Output Shape              Param #   \n",
      "=================================================================\n",
      "dense (Dense)                (None, 50)                700       \n",
      "_________________________________________________________________\n",
      "dense_1 (Dense)              (None, 50)                2550      \n",
      "_________________________________________________________________\n",
      "dense_2 (Dense)              (None, 3)                 153       \n",
      "=================================================================\n",
      "Total params: 3,403\n",
      "Trainable params: 3,403\n",
      "Non-trainable params: 0\n",
      "_________________________________________________________________\n"
     ]
    }
   ],
   "source": [
    "import tensorflow as tf\n",
    "from tensorflow.keras.models import Sequential\n",
    "from tensorflow.keras.layers import Dense\n",
    "\n",
    "# fix random seed for reproducibility\n",
    "np.random.seed(42)\n",
    "\n",
    "# define model architecture\n",
    "model = Sequential()\n",
    "model.add(Dense(n_layer_h1, activation='relu', input_shape=(n_features,)))\n",
    "model.add(Dense(n_layer_h2, activation='relu'))\n",
    "model.add(Dense(n_classes, activation='softmax'))\n",
    "\n",
    "# add model's configuration\n",
    "model.compile(optimizer='rmsprop', loss='categorical_crossentropy', metrics=['accuracy'])\n",
    "\n",
    "# show model architecture\n",
    "model.summary()"
   ]
  },
  {
   "cell_type": "markdown",
   "metadata": {},
   "source": [
    "##### EXECUTE THE MODEL"
   ]
  },
  {
   "cell_type": "code",
   "execution_count": 6,
   "metadata": {},
   "outputs": [
    {
     "name": "stdout",
     "output_type": "stream",
     "text": [
      "Train on 142 samples\n",
      "Epoch 1/100\n",
      "142/142 [==============================] - 1s 5ms/sample - loss: 1.1010 - accuracy: 0.4507\n",
      "Epoch 2/100\n",
      "142/142 [==============================] - 0s 63us/sample - loss: 0.8084 - accuracy: 0.7746\n",
      "Epoch 3/100\n",
      "142/142 [==============================] - 0s 56us/sample - loss: 0.6458 - accuracy: 0.9225\n",
      "Epoch 4/100\n",
      "142/142 [==============================] - 0s 56us/sample - loss: 0.5232 - accuracy: 0.9577\n",
      "Epoch 5/100\n",
      "142/142 [==============================] - 0s 42us/sample - loss: 0.4265 - accuracy: 0.9648\n",
      "Epoch 6/100\n",
      "142/142 [==============================] - 0s 42us/sample - loss: 0.3457 - accuracy: 0.9718\n",
      "Epoch 7/100\n",
      "142/142 [==============================] - 0s 42us/sample - loss: 0.2812 - accuracy: 0.9718\n",
      "Epoch 8/100\n",
      "142/142 [==============================] - 0s 35us/sample - loss: 0.2306 - accuracy: 0.9718\n",
      "Epoch 9/100\n",
      "142/142 [==============================] - 0s 42us/sample - loss: 0.1908 - accuracy: 0.9859\n",
      "Epoch 10/100\n",
      "142/142 [==============================] - 0s 42us/sample - loss: 0.1581 - accuracy: 0.9859\n",
      "Epoch 11/100\n",
      "142/142 [==============================] - 0s 49us/sample - loss: 0.1311 - accuracy: 0.9859\n",
      "Epoch 12/100\n",
      "142/142 [==============================] - 0s 49us/sample - loss: 0.1100 - accuracy: 0.9930\n",
      "Epoch 13/100\n",
      "142/142 [==============================] - 0s 42us/sample - loss: 0.0937 - accuracy: 0.9930\n",
      "Epoch 14/100\n",
      "142/142 [==============================] - 0s 42us/sample - loss: 0.0788 - accuracy: 0.9930\n",
      "Epoch 15/100\n",
      "142/142 [==============================] - 0s 42us/sample - loss: 0.0664 - accuracy: 0.9930\n",
      "Epoch 16/100\n",
      "142/142 [==============================] - 0s 35us/sample - loss: 0.0562 - accuracy: 0.9930\n",
      "Epoch 17/100\n",
      "142/142 [==============================] - 0s 42us/sample - loss: 0.0471 - accuracy: 0.9930\n",
      "Epoch 18/100\n",
      "142/142 [==============================] - 0s 35us/sample - loss: 0.0410 - accuracy: 0.9930\n",
      "Epoch 19/100\n",
      "142/142 [==============================] - 0s 42us/sample - loss: 0.0351 - accuracy: 0.9930\n",
      "Epoch 20/100\n",
      "142/142 [==============================] - 0s 35us/sample - loss: 0.0306 - accuracy: 0.9930\n",
      "Epoch 21/100\n",
      "142/142 [==============================] - 0s 42us/sample - loss: 0.0264 - accuracy: 0.9930\n",
      "Epoch 22/100\n",
      "142/142 [==============================] - 0s 42us/sample - loss: 0.0230 - accuracy: 0.9930\n",
      "Epoch 23/100\n",
      "142/142 [==============================] - 0s 42us/sample - loss: 0.0190 - accuracy: 1.0000\n",
      "Epoch 24/100\n",
      "142/142 [==============================] - 0s 56us/sample - loss: 0.0166 - accuracy: 1.0000\n",
      "Epoch 25/100\n",
      "142/142 [==============================] - 0s 57us/sample - loss: 0.0142 - accuracy: 1.0000\n",
      "Epoch 26/100\n",
      "142/142 [==============================] - 0s 49us/sample - loss: 0.0125 - accuracy: 1.0000\n",
      "Epoch 27/100\n",
      "142/142 [==============================] - 0s 42us/sample - loss: 0.0106 - accuracy: 1.0000\n",
      "Epoch 28/100\n",
      "142/142 [==============================] - 0s 42us/sample - loss: 0.0091 - accuracy: 1.0000\n",
      "Epoch 29/100\n",
      "142/142 [==============================] - 0s 42us/sample - loss: 0.0080 - accuracy: 1.0000\n",
      "Epoch 30/100\n",
      "142/142 [==============================] - 0s 42us/sample - loss: 0.0067 - accuracy: 1.0000\n",
      "Epoch 31/100\n",
      "142/142 [==============================] - 0s 35us/sample - loss: 0.0057 - accuracy: 1.0000\n",
      "Epoch 32/100\n",
      "142/142 [==============================] - 0s 35us/sample - loss: 0.0050 - accuracy: 1.0000\n",
      "Epoch 33/100\n",
      "142/142 [==============================] - 0s 42us/sample - loss: 0.0041 - accuracy: 1.0000\n",
      "Epoch 34/100\n",
      "142/142 [==============================] - 0s 42us/sample - loss: 0.0036 - accuracy: 1.0000\n",
      "Epoch 35/100\n",
      "142/142 [==============================] - 0s 42us/sample - loss: 0.0030 - accuracy: 1.0000\n",
      "Epoch 36/100\n",
      "142/142 [==============================] - 0s 42us/sample - loss: 0.0024 - accuracy: 1.0000\n",
      "Epoch 37/100\n",
      "142/142 [==============================] - 0s 42us/sample - loss: 0.0023 - accuracy: 1.0000\n",
      "Epoch 38/100\n",
      "142/142 [==============================] - 0s 49us/sample - loss: 0.0018 - accuracy: 1.0000\n",
      "Epoch 39/100\n",
      "142/142 [==============================] - 0s 42us/sample - loss: 0.0016 - accuracy: 1.0000\n",
      "Epoch 40/100\n",
      "142/142 [==============================] - 0s 42us/sample - loss: 0.0014 - accuracy: 1.0000\n",
      "Epoch 41/100\n",
      "142/142 [==============================] - 0s 42us/sample - loss: 0.0011 - accuracy: 1.0000\n",
      "Epoch 42/100\n",
      "142/142 [==============================] - 0s 42us/sample - loss: 9.7680e-04 - accuracy: 1.0000\n",
      "Epoch 43/100\n",
      "142/142 [==============================] - 0s 42us/sample - loss: 8.6909e-04 - accuracy: 1.0000\n",
      "Epoch 44/100\n",
      "142/142 [==============================] - 0s 49us/sample - loss: 7.6153e-04 - accuracy: 1.0000\n",
      "Epoch 45/100\n",
      "142/142 [==============================] - 0s 42us/sample - loss: 6.2681e-04 - accuracy: 1.0000\n",
      "Epoch 46/100\n",
      "142/142 [==============================] - 0s 42us/sample - loss: 5.3950e-04 - accuracy: 1.0000\n",
      "Epoch 47/100\n",
      "142/142 [==============================] - 0s 42us/sample - loss: 4.3600e-04 - accuracy: 1.0000\n",
      "Epoch 48/100\n",
      "142/142 [==============================] - 0s 42us/sample - loss: 3.6201e-04 - accuracy: 1.0000\n",
      "Epoch 49/100\n",
      "142/142 [==============================] - 0s 42us/sample - loss: 3.3280e-04 - accuracy: 1.0000\n",
      "Epoch 50/100\n",
      "142/142 [==============================] - 0s 42us/sample - loss: 2.7269e-04 - accuracy: 1.0000\n",
      "Epoch 51/100\n",
      "142/142 [==============================] - 0s 35us/sample - loss: 2.4400e-04 - accuracy: 1.0000\n",
      "Epoch 52/100\n",
      "142/142 [==============================] - 0s 49us/sample - loss: 1.9874e-04 - accuracy: 1.0000\n",
      "Epoch 53/100\n",
      "142/142 [==============================] - 0s 42us/sample - loss: 1.6327e-04 - accuracy: 1.0000\n",
      "Epoch 54/100\n",
      "142/142 [==============================] - 0s 42us/sample - loss: 1.2731e-04 - accuracy: 1.0000\n",
      "Epoch 55/100\n",
      "142/142 [==============================] - 0s 49us/sample - loss: 1.0994e-04 - accuracy: 1.0000\n",
      "Epoch 56/100\n",
      "142/142 [==============================] - 0s 35us/sample - loss: 9.3228e-05 - accuracy: 1.0000\n",
      "Epoch 57/100\n",
      "142/142 [==============================] - 0s 42us/sample - loss: 7.2628e-05 - accuracy: 1.0000\n",
      "Epoch 58/100\n",
      "142/142 [==============================] - 0s 42us/sample - loss: 6.3962e-05 - accuracy: 1.0000\n",
      "Epoch 59/100\n",
      "142/142 [==============================] - 0s 50us/sample - loss: 4.8417e-05 - accuracy: 1.0000\n",
      "Epoch 60/100\n",
      "142/142 [==============================] - 0s 42us/sample - loss: 4.0165e-05 - accuracy: 1.0000\n",
      "Epoch 61/100\n",
      "142/142 [==============================] - 0s 42us/sample - loss: 3.8325e-05 - accuracy: 1.0000\n",
      "Epoch 62/100\n",
      "142/142 [==============================] - 0s 35us/sample - loss: 2.8262e-05 - accuracy: 1.0000\n",
      "Epoch 63/100\n",
      "142/142 [==============================] - 0s 42us/sample - loss: 2.4424e-05 - accuracy: 1.0000\n",
      "Epoch 64/100\n",
      "142/142 [==============================] - 0s 42us/sample - loss: 1.8734e-05 - accuracy: 1.0000\n",
      "Epoch 65/100\n",
      "142/142 [==============================] - 0s 42us/sample - loss: 1.5385e-05 - accuracy: 1.0000\n",
      "Epoch 66/100\n",
      "142/142 [==============================] - 0s 42us/sample - loss: 1.2292e-05 - accuracy: 1.0000\n",
      "Epoch 67/100\n",
      "142/142 [==============================] - 0s 35us/sample - loss: 1.1022e-05 - accuracy: 1.0000\n",
      "Epoch 68/100\n",
      "142/142 [==============================] - 0s 49us/sample - loss: 8.4994e-06 - accuracy: 1.0000\n",
      "Epoch 69/100\n",
      "142/142 [==============================] - 0s 35us/sample - loss: 6.9187e-06 - accuracy: 1.0000\n",
      "Epoch 70/100\n",
      "142/142 [==============================] - 0s 42us/sample - loss: 5.5069e-06 - accuracy: 1.0000\n",
      "Epoch 71/100\n",
      "142/142 [==============================] - 0s 42us/sample - loss: 5.0258e-06 - accuracy: 1.0000\n",
      "Epoch 72/100\n",
      "142/142 [==============================] - 0s 42us/sample - loss: 3.9917e-06 - accuracy: 1.0000\n",
      "Epoch 73/100\n",
      "142/142 [==============================] - 0s 35us/sample - loss: 3.1539e-06 - accuracy: 1.0000\n",
      "Epoch 74/100\n",
      "142/142 [==============================] - 0s 42us/sample - loss: 2.5898e-06 - accuracy: 1.0000\n",
      "Epoch 75/100\n",
      "142/142 [==============================] - 0s 35us/sample - loss: 2.2977e-06 - accuracy: 1.0000\n",
      "Epoch 76/100\n",
      "142/142 [==============================] - 0s 49us/sample - loss: 1.8443e-06 - accuracy: 1.0000\n",
      "Epoch 77/100\n",
      "142/142 [==============================] - 0s 42us/sample - loss: 1.3348e-06 - accuracy: 1.0000\n",
      "Epoch 78/100\n",
      "142/142 [==============================] - 0s 42us/sample - loss: 1.1350e-06 - accuracy: 1.0000\n",
      "Epoch 79/100\n",
      "142/142 [==============================] - 0s 42us/sample - loss: 9.5450e-07 - accuracy: 1.0000\n",
      "Epoch 80/100\n",
      "142/142 [==============================] - 0s 35us/sample - loss: 7.9584e-07 - accuracy: 1.0000\n",
      "Epoch 81/100\n",
      "142/142 [==============================] - 0s 49us/sample - loss: 6.6152e-07 - accuracy: 1.0000\n",
      "Epoch 82/100\n",
      "142/142 [==============================] - 0s 35us/sample - loss: 5.1125e-07 - accuracy: 1.0000\n",
      "Epoch 83/100\n",
      "142/142 [==============================] - 0s 42us/sample - loss: 4.2898e-07 - accuracy: 1.0000\n",
      "Epoch 84/100\n",
      "142/142 [==============================] - 0s 35us/sample - loss: 3.8365e-07 - accuracy: 1.0000\n",
      "Epoch 85/100\n",
      "142/142 [==============================] - 0s 35us/sample - loss: 3.1565e-07 - accuracy: 1.0000\n",
      "Epoch 86/100\n",
      "142/142 [==============================] - 0s 42us/sample - loss: 2.6696e-07 - accuracy: 1.0000\n",
      "Epoch 87/100\n",
      "142/142 [==============================] - 0s 35us/sample - loss: 2.2415e-07 - accuracy: 1.0000\n",
      "Epoch 88/100\n",
      "142/142 [==============================] - 0s 35us/sample - loss: 1.8973e-07 - accuracy: 1.0000\n",
      "Epoch 89/100\n",
      "142/142 [==============================] - 0s 42us/sample - loss: 1.5867e-07 - accuracy: 1.0000\n",
      "Epoch 90/100\n",
      "142/142 [==============================] - 0s 35us/sample - loss: 1.4943e-07 - accuracy: 1.0000\n",
      "Epoch 91/100\n",
      "142/142 [==============================] - 0s 42us/sample - loss: 1.1921e-07 - accuracy: 1.0000\n",
      "Epoch 92/100\n",
      "142/142 [==============================] - 0s 35us/sample - loss: 1.0326e-07 - accuracy: 1.0000\n",
      "Epoch 93/100\n",
      "142/142 [==============================] - 0s 35us/sample - loss: 9.7382e-08 - accuracy: 1.0000\n",
      "Epoch 94/100\n",
      "142/142 [==============================] - 0s 42us/sample - loss: 8.4790e-08 - accuracy: 1.0000\n",
      "Epoch 95/100\n",
      "142/142 [==============================] - 0s 42us/sample - loss: 7.3037e-08 - accuracy: 1.0000\n",
      "Epoch 96/100\n",
      "142/142 [==============================] - 0s 35us/sample - loss: 6.4642e-08 - accuracy: 1.0000\n",
      "Epoch 97/100\n",
      "142/142 [==============================] - 0s 42us/sample - loss: 5.9605e-08 - accuracy: 1.0000\n",
      "Epoch 98/100\n",
      "142/142 [==============================] - 0s 42us/sample - loss: 5.6247e-08 - accuracy: 1.0000\n",
      "Epoch 99/100\n",
      "142/142 [==============================] - 0s 42us/sample - loss: 4.7012e-08 - accuracy: 1.0000\n",
      "Epoch 100/100\n",
      "142/142 [==============================] - 0s 42us/sample - loss: 4.8691e-08 - accuracy: 1.0000\n"
     ]
    },
    {
     "data": {
      "text/plain": [
       "<tensorflow.python.keras.callbacks.History at 0x1ecec773748>"
      ]
     },
     "execution_count": 6,
     "metadata": {},
     "output_type": "execute_result"
    }
   ],
   "source": [
    "from tensorflow.keras.callbacks import History \n",
    "\n",
    "# add history function to \n",
    "history = History()\n",
    "model.fit(X_train, y_train, epochs=100, callbacks=[history])"
   ]
  },
  {
   "cell_type": "markdown",
   "metadata": {},
   "source": [
    "##### PRINTING RAW OUTPUT"
   ]
  },
  {
   "cell_type": "code",
   "execution_count": 7,
   "metadata": {},
   "outputs": [
    {
     "data": {
      "text/plain": [
       "array([[6.25545269e-08, 3.44403162e-07, 9.99999642e-01],\n",
       "       [1.00000000e+00, 1.02101054e-17, 8.82386239e-15],\n",
       "       [3.59495558e-11, 3.04937434e-12, 1.00000000e+00],\n",
       "       [9.02549816e-16, 1.00000000e+00, 2.00859652e-17],\n",
       "       [1.13165120e-12, 1.00000000e+00, 6.34297107e-15],\n",
       "       [7.99735587e-19, 1.00000000e+00, 6.08664116e-20],\n",
       "       [3.73424669e-09, 2.72144279e-10, 1.00000000e+00],\n",
       "       [9.99999762e-01, 2.61647074e-07, 9.18954335e-09],\n",
       "       [4.40152968e-16, 1.00000000e+00, 3.02467260e-17],\n",
       "       [4.32450527e-16, 1.00000000e+00, 1.34331212e-17],\n",
       "       [1.00000000e+00, 3.99802984e-18, 5.61415873e-16],\n",
       "       [1.00000000e+00, 5.76900639e-20, 2.74798267e-17],\n",
       "       [2.00082708e-13, 1.59408226e-13, 1.00000000e+00],\n",
       "       [8.20390627e-15, 1.00000000e+00, 1.48516004e-16],\n",
       "       [1.72152841e-12, 6.13886925e-14, 1.00000000e+00],\n",
       "       [2.08262657e-10, 1.00000000e+00, 1.92702408e-12],\n",
       "       [1.40006381e-14, 1.00000000e+00, 4.33061561e-15],\n",
       "       [1.00000000e+00, 1.10279825e-15, 3.78230921e-13],\n",
       "       [1.00000000e+00, 1.44325729e-09, 4.36960634e-10],\n",
       "       [3.90885174e-02, 1.21982627e-01, 8.38928819e-01],\n",
       "       [3.03623456e-05, 2.95721710e-01, 7.04247892e-01],\n",
       "       [1.68131553e-16, 1.00000000e+00, 1.05048745e-17],\n",
       "       [1.00000000e+00, 9.40115727e-16, 7.85988435e-14],\n",
       "       [1.00000000e+00, 1.00640342e-13, 8.91325642e-12],\n",
       "       [4.91190352e-11, 1.94598782e-11, 1.00000000e+00],\n",
       "       [1.24418209e-09, 1.00000000e+00, 1.08924640e-10],\n",
       "       [3.96038047e-09, 6.52936416e-09, 1.00000000e+00],\n",
       "       [7.52971023e-14, 1.00000000e+00, 5.46043164e-17],\n",
       "       [1.00000000e+00, 5.86264283e-15, 9.51396730e-13],\n",
       "       [3.68852605e-12, 3.06357824e-14, 1.00000000e+00],\n",
       "       [1.51305482e-16, 1.00000000e+00, 4.00470022e-18],\n",
       "       [5.82397154e-14, 1.00000000e+00, 1.10141505e-15],\n",
       "       [1.00000000e+00, 2.12646325e-21, 5.14582607e-18],\n",
       "       [2.74442145e-24, 1.00000000e+00, 7.50345311e-27],\n",
       "       [1.00000000e+00, 2.23586794e-09, 1.59108426e-09],\n",
       "       [1.00000000e+00, 9.19182578e-16, 1.46286507e-13]], dtype=float32)"
      ]
     },
     "execution_count": 7,
     "metadata": {},
     "output_type": "execute_result"
    }
   ],
   "source": [
    "predictions = model.predict(X_test)\n",
    "predictions"
   ]
  },
  {
   "cell_type": "markdown",
   "metadata": {},
   "source": [
    "##### EVALUATE TESTING SET"
   ]
  },
  {
   "cell_type": "code",
   "execution_count": 8,
   "metadata": {},
   "outputs": [
    {
     "name": "stdout",
     "output_type": "stream",
     "text": [
      "36/36 [==============================] - 0s 2ms/sample - loss: 0.0682 - accuracy: 0.9722\n",
      "\n",
      "Evaluate on test data \n",
      "\n",
      "(loss), (accuracy) :\n",
      "[0.0681806140475803, 0.9722222]\n"
     ]
    }
   ],
   "source": [
    "# Evaluate the model on the test data using `evaluate`\n",
    "results = model.evaluate(X_test, y_test)\n",
    "\n",
    "print('\\nEvaluate on test data \\n\\n(loss), (accuracy) :\\n{}'.format(results))"
   ]
  },
  {
   "cell_type": "markdown",
   "metadata": {},
   "source": [
    "##### PRINTING RESULTS"
   ]
  },
  {
   "cell_type": "code",
   "execution_count": 9,
   "metadata": {},
   "outputs": [
    {
     "name": "stdout",
     "output_type": "stream",
     "text": [
      "\n",
      "\n",
      "Printing results :\n",
      "\n",
      "     Prediction  Target    Hit\n",
      "0            2       2   True\n",
      "1            0       0   True\n",
      "2            2       2   True\n",
      "3            1       1   True\n",
      "4            1       1   True\n",
      "5            1       1   True\n",
      "6            2       2   True\n",
      "7            0       0   True\n",
      "8            1       1   True\n",
      "9            1       1   True\n",
      "10           0       0   True\n",
      "11           0       0   True\n",
      "12           2       2   True\n",
      "13           1       1   True\n",
      "14           2       2   True\n",
      "15           1       1   True\n",
      "16           1       1   True\n",
      "17           0       0   True\n",
      "18           0       0   True\n",
      "19           2       1  False\n",
      "20           2       2   True\n",
      "21           1       1   True\n",
      "22           0       0   True\n",
      "23           0       0   True\n",
      "24           2       2   True\n",
      "25           1       1   True\n",
      "26           2       2   True\n",
      "27           1       1   True\n",
      "28           0       0   True\n",
      "29           2       2   True\n",
      "30           1       1   True\n",
      "31           1       1   True\n",
      "32           0       0   True\n",
      "33           1       1   True\n",
      "34           0       0   True\n",
      "35           0       0   True\n"
     ]
    }
   ],
   "source": [
    "dataframe = pd.DataFrame(np.argmax(predictions,1), columns=['Prediction'])\n",
    "dataframe['Target'] = np.argmax(y_test, 1)\n",
    "dataframe['Hit'] = np.equal(dataframe.Target, dataframe.Prediction)\n",
    "print('\\n\\nPrinting results :\\n\\n', dataframe)"
   ]
  },
  {
   "cell_type": "code",
   "execution_count": 10,
   "metadata": {},
   "outputs": [
    {
     "name": "stdout",
     "output_type": "stream",
     "text": [
      "dict_keys(['loss', 'accuracy'])\n"
     ]
    }
   ],
   "source": [
    "print(history.history.keys())"
   ]
  },
  {
   "cell_type": "markdown",
   "metadata": {},
   "source": [
    "##### VISUALIZE THE RESULTS"
   ]
  },
  {
   "cell_type": "code",
   "execution_count": 11,
   "metadata": {},
   "outputs": [
    {
     "data": {
      "image/png": "[encoded data removed]",
      "text/plain": [
       "<Figure size 432x288 with 1 Axes>"
      ]
     },
     "metadata": {
      "needs_background": "light"
     },
     "output_type": "display_data"
    }
   ],
   "source": [
    "%matplotlib inline\n",
    "import matplotlib.pyplot as plt\n",
    "import matplotlib.patches as mpatches\n",
    "\n",
    "# set up legend\n",
    "blue_patch = mpatches.Patch(color='blue', label='Train Accuracy [Maximize]')\n",
    "plt.legend(handles=[blue_patch])\n",
    "\n",
    "#plot the data\n",
    "plt.plot(history.history['accuracy'], color='blue')\n",
    "plt.ylabel('score');"
   ]
  },
  {
   "cell_type": "markdown",
   "metadata": {},
   "source": [
    "##### VISUALIZE THE LOSS EVOLUTION"
   ]
  },
  {
   "cell_type": "code",
   "execution_count": 12,
   "metadata": {},
   "outputs": [
    {
     "data": {
      "image/png": "[encoded data removed]",
      "text/plain": [
       "<Figure size 432x288 with 1 Axes>"
      ]
     },
     "metadata": {
      "needs_background": "light"
     },
     "output_type": "display_data"
    }
   ],
   "source": [
    "# set up legend\n",
    "green_patch = mpatches.Patch(color='green', label='Avg Loss [Minimize]')\n",
    "plt.legend(handles=[green_patch])\n",
    "\n",
    "#plot the data\n",
    "plt.plot(history.history['loss'], color='green')\n",
    "\n",
    "plt.xlabel('epochs')\n",
    "plt.ylabel('score');"
   ]
  },
  {
   "cell_type": "markdown",
   "metadata": {},
   "source": [
    "##### SAVE MODEL FOR FUTURE RESTORE"
   ]
  },
  {
   "cell_type": "code",
   "execution_count": 13,
   "metadata": {},
   "outputs": [],
   "source": [
    "import os\n",
    "\n",
    "# create dir folders if they don't exits\n",
    "os.makedirs('output/keras_checkpoints', exist_ok=True)\n",
    "\n",
    "# save the trained model\n",
    "model.save('output/keras_checkpoints/mlp_wine_tf_keras.h5')"
   ]
  },
  {
   "cell_type": "markdown",
   "metadata": {},
   "source": [
    "##### LOAD PRETRAINED MODEL"
   ]
  },
  {
   "cell_type": "code",
   "execution_count": 14,
   "metadata": {},
   "outputs": [],
   "source": [
    "model.load_weights('output/keras_checkpoints/mlp_wine_tf_keras.h5')"
   ]
  },
  {
   "cell_type": "markdown",
   "metadata": {},
   "source": [
    "##### TESTING PRETRAINED MODEL"
   ]
  },
  {
   "cell_type": "code",
   "execution_count": 15,
   "metadata": {},
   "outputs": [
    {
     "name": "stdout",
     "output_type": "stream",
     "text": [
      "\n",
      "\n",
      "Printing results :\n",
      "\n",
      "     Prediction  Target    Hit\n",
      "0            2       2   True\n",
      "1            0       0   True\n",
      "2            2       2   True\n",
      "3            1       1   True\n",
      "4            1       1   True\n",
      "5            1       1   True\n",
      "6            2       2   True\n",
      "7            0       0   True\n",
      "8            1       1   True\n",
      "9            1       1   True\n",
      "10           0       0   True\n",
      "11           0       0   True\n",
      "12           2       2   True\n",
      "13           1       1   True\n",
      "14           2       2   True\n",
      "15           1       1   True\n",
      "16           1       1   True\n",
      "17           0       0   True\n",
      "18           0       0   True\n",
      "19           2       1  False\n",
      "20           2       2   True\n",
      "21           1       1   True\n",
      "22           0       0   True\n",
      "23           0       0   True\n",
      "24           2       2   True\n",
      "25           1       1   True\n",
      "26           2       2   True\n",
      "27           1       1   True\n",
      "28           0       0   True\n",
      "29           2       2   True\n",
      "30           1       1   True\n",
      "31           1       1   True\n",
      "32           0       0   True\n",
      "33           1       1   True\n",
      "34           0       0   True\n",
      "35           0       0   True\n"
     ]
    }
   ],
   "source": [
    "dataframe = pd.DataFrame(np.argmax(predictions,1), columns=['Prediction'])\n",
    "dataframe['Target'] = np.argmax(y_test, 1)\n",
    "dataframe['Hit'] = np.equal(dataframe.Target, dataframe.Prediction)\n",
    "print('\\n\\nPrinting results :\\n\\n', dataframe)"
   ]
  },
  {
   "cell_type": "code",
   "execution_count": null,
   "metadata": {},
   "outputs": [],
   "source": []
  }
 ],
 "metadata": {
  "kernelspec": {
   "display_name": "Python 3",
   "language": "python",
   "name": "python3"
  },
  "language_info": {
   "codemirror_mode": {
    "name": "ipython",
    "version": 3
   },
   "file_extension": ".py",
   "mimetype": "text/x-python",
   "name": "python",
   "nbconvert_exporter": "python",
   "pygments_lexer": "ipython3",
   "version": "3.5.6"
  }
 },
 "nbformat": 4,
 "nbformat_minor": 2
}

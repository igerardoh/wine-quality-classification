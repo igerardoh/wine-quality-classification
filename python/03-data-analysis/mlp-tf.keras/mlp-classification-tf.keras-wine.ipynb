{
 "cells": [
  {
   "cell_type": "markdown",
   "metadata": {},
   "source": [
    "# Wine Quality Classifier"
   ]
  },
  {
   "cell_type": "markdown",
   "metadata": {},
   "source": [
    "<p><b>Status: <span style=color:orange;>In process</span></b></p>"
   ]
  },
  {
   "cell_type": "markdown",
   "metadata": {},
   "source": [
    "##### LOAD THE FEATURE DATA"
   ]
  },
  {
   "cell_type": "code",
   "execution_count": 1,
   "metadata": {},
   "outputs": [
    {
     "name": "stdout",
     "output_type": "stream",
     "text": [
      "Feature data, shape:\n",
      "X: (178, 13)\n"
     ]
    },
    {
     "data": {
      "text/html": [
       "<div>\n",
       "<style scoped>\n",
       "    .dataframe tbody tr th:only-of-type {\n",
       "        vertical-align: middle;\n",
       "    }\n",
       "\n",
       "    .dataframe tbody tr th {\n",
       "        vertical-align: top;\n",
       "    }\n",
       "\n",
       "    .dataframe thead th {\n",
       "        text-align: right;\n",
       "    }\n",
       "</style>\n",
       "<table border=\"1\" class=\"dataframe\">\n",
       "  <thead>\n",
       "    <tr style=\"text-align: right;\">\n",
       "      <th></th>\n",
       "      <th>Alcohol</th>\n",
       "      <th>Malic_acid</th>\n",
       "      <th>Ash</th>\n",
       "      <th>Alcalinity</th>\n",
       "      <th>Magnesium</th>\n",
       "      <th>Total_phenols</th>\n",
       "      <th>Flavanoids</th>\n",
       "      <th>Nonflavanoid_phenols</th>\n",
       "      <th>Proanthocyanins</th>\n",
       "      <th>Color_intensity</th>\n",
       "      <th>Hue</th>\n",
       "      <th>OD280_OD315</th>\n",
       "      <th>Proline</th>\n",
       "    </tr>\n",
       "  </thead>\n",
       "  <tbody>\n",
       "    <tr>\n",
       "      <th>0</th>\n",
       "      <td>1.518613</td>\n",
       "      <td>-0.562250</td>\n",
       "      <td>0.232053</td>\n",
       "      <td>-1.169593</td>\n",
       "      <td>1.913905</td>\n",
       "      <td>0.808997</td>\n",
       "      <td>1.034819</td>\n",
       "      <td>-0.659563</td>\n",
       "      <td>1.224884</td>\n",
       "      <td>0.251717</td>\n",
       "      <td>0.362177</td>\n",
       "      <td>1.847920</td>\n",
       "      <td>1.013009</td>\n",
       "    </tr>\n",
       "    <tr>\n",
       "      <th>1</th>\n",
       "      <td>0.246290</td>\n",
       "      <td>-0.499413</td>\n",
       "      <td>-0.827996</td>\n",
       "      <td>-2.490847</td>\n",
       "      <td>0.018145</td>\n",
       "      <td>0.568648</td>\n",
       "      <td>0.733629</td>\n",
       "      <td>-0.820719</td>\n",
       "      <td>-0.544721</td>\n",
       "      <td>-0.293321</td>\n",
       "      <td>0.406051</td>\n",
       "      <td>1.113449</td>\n",
       "      <td>0.965242</td>\n",
       "    </tr>\n",
       "    <tr>\n",
       "      <th>2</th>\n",
       "      <td>0.196879</td>\n",
       "      <td>0.021231</td>\n",
       "      <td>1.109334</td>\n",
       "      <td>-0.268738</td>\n",
       "      <td>0.088358</td>\n",
       "      <td>0.808997</td>\n",
       "      <td>1.215533</td>\n",
       "      <td>-0.498407</td>\n",
       "      <td>2.135968</td>\n",
       "      <td>0.269020</td>\n",
       "      <td>0.318304</td>\n",
       "      <td>0.788587</td>\n",
       "      <td>1.395148</td>\n",
       "    </tr>\n",
       "    <tr>\n",
       "      <th>3</th>\n",
       "      <td>1.691550</td>\n",
       "      <td>-0.346811</td>\n",
       "      <td>0.487926</td>\n",
       "      <td>-0.809251</td>\n",
       "      <td>0.930918</td>\n",
       "      <td>2.491446</td>\n",
       "      <td>1.466525</td>\n",
       "      <td>-0.981875</td>\n",
       "      <td>1.032155</td>\n",
       "      <td>1.186068</td>\n",
       "      <td>-0.427544</td>\n",
       "      <td>1.184071</td>\n",
       "      <td>2.334574</td>\n",
       "    </tr>\n",
       "    <tr>\n",
       "      <th>4</th>\n",
       "      <td>0.295700</td>\n",
       "      <td>0.227694</td>\n",
       "      <td>1.840403</td>\n",
       "      <td>0.451946</td>\n",
       "      <td>1.281985</td>\n",
       "      <td>0.808997</td>\n",
       "      <td>0.663351</td>\n",
       "      <td>0.226796</td>\n",
       "      <td>0.401404</td>\n",
       "      <td>-0.319276</td>\n",
       "      <td>0.362177</td>\n",
       "      <td>0.449601</td>\n",
       "      <td>-0.037874</td>\n",
       "    </tr>\n",
       "  </tbody>\n",
       "</table>\n",
       "</div>"
      ],
      "text/plain": [
       "    Alcohol  Malic_acid       Ash  Alcalinity  Magnesium  Total_phenols  \\\n",
       "0  1.518613   -0.562250  0.232053   -1.169593   1.913905       0.808997   \n",
       "1  0.246290   -0.499413 -0.827996   -2.490847   0.018145       0.568648   \n",
       "2  0.196879    0.021231  1.109334   -0.268738   0.088358       0.808997   \n",
       "3  1.691550   -0.346811  0.487926   -0.809251   0.930918       2.491446   \n",
       "4  0.295700    0.227694  1.840403    0.451946   1.281985       0.808997   \n",
       "\n",
       "   Flavanoids  Nonflavanoid_phenols  Proanthocyanins  Color_intensity  \\\n",
       "0    1.034819             -0.659563         1.224884         0.251717   \n",
       "1    0.733629             -0.820719        -0.544721        -0.293321   \n",
       "2    1.215533             -0.498407         2.135968         0.269020   \n",
       "3    1.466525             -0.981875         1.032155         1.186068   \n",
       "4    0.663351              0.226796         0.401404        -0.319276   \n",
       "\n",
       "        Hue  OD280_OD315   Proline  \n",
       "0  0.362177     1.847920  1.013009  \n",
       "1  0.406051     1.113449  0.965242  \n",
       "2  0.318304     0.788587  1.395148  \n",
       "3 -0.427544     1.184071  2.334574  \n",
       "4  0.362177     0.449601 -0.037874  "
      ]
     },
     "execution_count": 1,
     "metadata": {},
     "output_type": "execute_result"
    }
   ],
   "source": [
    "import pandas as pd\n",
    "import numpy as np\n",
    "\n",
    "X = pd.read_csv('../../../data/preprocessed_data/X.csv', sep=',')\n",
    "\n",
    "print ('Feature data, shape:\\nX: {}'.format(X.shape))\n",
    "X.head()"
   ]
  },
  {
   "cell_type": "markdown",
   "metadata": {},
   "source": [
    "##### DATA OVERVIEW"
   ]
  },
  {
   "cell_type": "code",
   "execution_count": 2,
   "metadata": {},
   "outputs": [
    {
     "name": "stdout",
     "output_type": "stream",
     "text": [
      "Target data, shape:\n",
      "y: (178, 13)\n"
     ]
    },
    {
     "data": {
      "text/html": [
       "<div>\n",
       "<style scoped>\n",
       "    .dataframe tbody tr th:only-of-type {\n",
       "        vertical-align: middle;\n",
       "    }\n",
       "\n",
       "    .dataframe tbody tr th {\n",
       "        vertical-align: top;\n",
       "    }\n",
       "\n",
       "    .dataframe thead th {\n",
       "        text-align: right;\n",
       "    }\n",
       "</style>\n",
       "<table border=\"1\" class=\"dataframe\">\n",
       "  <thead>\n",
       "    <tr style=\"text-align: right;\">\n",
       "      <th></th>\n",
       "      <th>1</th>\n",
       "      <th>2</th>\n",
       "      <th>3</th>\n",
       "    </tr>\n",
       "  </thead>\n",
       "  <tbody>\n",
       "    <tr>\n",
       "      <th>0</th>\n",
       "      <td>1</td>\n",
       "      <td>0</td>\n",
       "      <td>0</td>\n",
       "    </tr>\n",
       "    <tr>\n",
       "      <th>1</th>\n",
       "      <td>1</td>\n",
       "      <td>0</td>\n",
       "      <td>0</td>\n",
       "    </tr>\n",
       "    <tr>\n",
       "      <th>2</th>\n",
       "      <td>1</td>\n",
       "      <td>0</td>\n",
       "      <td>0</td>\n",
       "    </tr>\n",
       "    <tr>\n",
       "      <th>3</th>\n",
       "      <td>1</td>\n",
       "      <td>0</td>\n",
       "      <td>0</td>\n",
       "    </tr>\n",
       "    <tr>\n",
       "      <th>4</th>\n",
       "      <td>1</td>\n",
       "      <td>0</td>\n",
       "      <td>0</td>\n",
       "    </tr>\n",
       "  </tbody>\n",
       "</table>\n",
       "</div>"
      ],
      "text/plain": [
       "   1  2  3\n",
       "0  1  0  0\n",
       "1  1  0  0\n",
       "2  1  0  0\n",
       "3  1  0  0\n",
       "4  1  0  0"
      ]
     },
     "execution_count": 2,
     "metadata": {},
     "output_type": "execute_result"
    }
   ],
   "source": [
    "y = pd.read_csv('../../../data/preprocessed_data/y.csv', sep=',')\n",
    "\n",
    "print ('Target data, shape:\\ny: {}'.format(X.shape))\n",
    "y.head()"
   ]
  },
  {
   "cell_type": "markdown",
   "metadata": {},
   "source": [
    "##### SPLIT THE DATA"
   ]
  },
  {
   "cell_type": "code",
   "execution_count": 3,
   "metadata": {},
   "outputs": [
    {
     "name": "stdout",
     "output_type": "stream",
     "text": [
      "Data shapes:\n",
      "\n",
      "X_train : (142, 13)\n",
      "y_train : (142, 3)\n",
      "\n",
      "X_test : (36, 13)\n",
      "y_test : (36, 3)\n"
     ]
    }
   ],
   "source": [
    "from sklearn.model_selection import train_test_split\n",
    "\n",
    "# set the seed for reproducibility\n",
    "np.random.seed(127)\n",
    "\n",
    "# split the dataset into 2 training and 2 testing sets\n",
    "X_train, X_test, y_train, y_test = train_test_split(X.values, y.values, test_size=0.2, random_state=13)\n",
    "\n",
    "print('Data shapes:\\n')\n",
    "print('X_train : {}\\ny_train : {}\\n\\nX_test : {}\\ny_test : {}'.format(X_train.shape,\n",
    "                                                                      y_train.shape,\n",
    "                                                                      X_test.shape,\n",
    "                                                                      y_test.shape))"
   ]
  },
  {
   "cell_type": "markdown",
   "metadata": {},
   "source": [
    "##### DEFINE NETWORK PARAMETERS"
   ]
  },
  {
   "cell_type": "code",
   "execution_count": 4,
   "metadata": {},
   "outputs": [],
   "source": [
    "# define number of attributes\n",
    "n_features = X_train.shape[1]    \n",
    "n_classes = y_train.shape[1]\n",
    "\n",
    "# count number of samples in each set of data\n",
    "n_train = X_train.shape[0]\n",
    "n_test = X_test.shape[0]\n",
    "\n",
    "# define amount of neurons\n",
    "n_layer_in = n_features  # 11 neurons in input layer\n",
    "n_layer_h1 = 50          # first   hidden layer\n",
    "n_layer_h2 = 50          # second  hidden layer\n",
    "n_layer_out = n_classes  # 7 neurons in input layer\n",
    "\n",
    "sigma_init = 0.01   # For randomized initialization"
   ]
  },
  {
   "cell_type": "markdown",
   "metadata": {},
   "source": [
    "##### MODEL ARCHITECTURE"
   ]
  },
  {
   "cell_type": "code",
   "execution_count": 5,
   "metadata": {
    "scrolled": false
   },
   "outputs": [
    {
     "name": "stdout",
     "output_type": "stream",
     "text": [
      "Model: \"sequential\"\n",
      "_________________________________________________________________\n",
      "Layer (type)                 Output Shape              Param #   \n",
      "=================================================================\n",
      "dense (Dense)                (None, 50)                700       \n",
      "_________________________________________________________________\n",
      "dense_1 (Dense)              (None, 50)                2550      \n",
      "_________________________________________________________________\n",
      "dense_2 (Dense)              (None, 3)                 153       \n",
      "=================================================================\n",
      "Total params: 3,403\n",
      "Trainable params: 3,403\n",
      "Non-trainable params: 0\n",
      "_________________________________________________________________\n"
     ]
    }
   ],
   "source": [
    "import tensorflow as tf\n",
    "from tensorflow.keras.models import Sequential\n",
    "from tensorflow.keras.layers import Dense\n",
    "\n",
    "# fix random seed for reproducibility\n",
    "np.random.seed(42)\n",
    "\n",
    "# define model architecture\n",
    "model = Sequential()\n",
    "model.add(Dense(n_layer_h1, activation='relu', input_shape=(n_features,)))\n",
    "model.add(Dense(n_layer_h2, activation='relu'))\n",
    "model.add(Dense(n_classes, activation='softmax'))\n",
    "\n",
    "# add model's configuration\n",
    "model.compile(optimizer='rmsprop', loss='categorical_crossentropy', metrics=['accuracy'])\n",
    "\n",
    "# show model architecture\n",
    "model.summary()"
   ]
  },
  {
   "cell_type": "markdown",
   "metadata": {},
   "source": [
    "##### EXECUTE THE MODEL"
   ]
  },
  {
   "cell_type": "code",
   "execution_count": 6,
   "metadata": {},
   "outputs": [
    {
     "name": "stdout",
     "output_type": "stream",
     "text": [
      "Train on 142 samples\n",
      "Epoch 1/100\n",
      "142/142 [==============================] - 0s 2ms/sample - loss: 0.9222 - accuracy: 0.6268\n",
      "Epoch 2/100\n",
      "142/142 [==============================] - 0s 85us/sample - loss: 0.7264 - accuracy: 0.8873\n",
      "Epoch 3/100\n",
      "142/142 [==============================] - 0s 51us/sample - loss: 0.6071 - accuracy: 0.9085\n",
      "Epoch 4/100\n",
      "142/142 [==============================] - 0s 49us/sample - loss: 0.5090 - accuracy: 0.9507\n",
      "Epoch 5/100\n",
      "142/142 [==============================] - 0s 42us/sample - loss: 0.4284 - accuracy: 0.9507\n",
      "Epoch 6/100\n",
      "142/142 [==============================] - 0s 42us/sample - loss: 0.3603 - accuracy: 0.9648\n",
      "Epoch 7/100\n",
      "142/142 [==============================] - 0s 49us/sample - loss: 0.3036 - accuracy: 0.9648\n",
      "Epoch 8/100\n",
      "142/142 [==============================] - 0s 42us/sample - loss: 0.2563 - accuracy: 0.9718\n",
      "Epoch 9/100\n",
      "142/142 [==============================] - 0s 50us/sample - loss: 0.2164 - accuracy: 0.9718\n",
      "Epoch 10/100\n",
      "142/142 [==============================] - 0s 42us/sample - loss: 0.1841 - accuracy: 0.9789\n",
      "Epoch 11/100\n",
      "142/142 [==============================] - 0s 42us/sample - loss: 0.1566 - accuracy: 0.9789\n",
      "Epoch 12/100\n",
      "142/142 [==============================] - 0s 42us/sample - loss: 0.1341 - accuracy: 0.9789\n",
      "Epoch 13/100\n",
      "142/142 [==============================] - 0s 42us/sample - loss: 0.1140 - accuracy: 0.9789\n",
      "Epoch 14/100\n",
      "142/142 [==============================] - 0s 42us/sample - loss: 0.0988 - accuracy: 0.9859\n",
      "Epoch 15/100\n",
      "142/142 [==============================] - 0s 42us/sample - loss: 0.0864 - accuracy: 0.9859\n",
      "Epoch 16/100\n",
      "142/142 [==============================] - 0s 35us/sample - loss: 0.0743 - accuracy: 0.9930\n",
      "Epoch 17/100\n",
      "142/142 [==============================] - 0s 35us/sample - loss: 0.0642 - accuracy: 0.9930\n",
      "Epoch 18/100\n",
      "142/142 [==============================] - 0s 35us/sample - loss: 0.0551 - accuracy: 0.9930\n",
      "Epoch 19/100\n",
      "142/142 [==============================] - 0s 35us/sample - loss: 0.0471 - accuracy: 0.9930\n",
      "Epoch 20/100\n",
      "142/142 [==============================] - 0s 35us/sample - loss: 0.0411 - accuracy: 0.9930\n",
      "Epoch 21/100\n",
      "142/142 [==============================] - 0s 35us/sample - loss: 0.0353 - accuracy: 0.9930\n",
      "Epoch 22/100\n",
      "142/142 [==============================] - 0s 35us/sample - loss: 0.0301 - accuracy: 0.9930\n",
      "Epoch 23/100\n",
      "142/142 [==============================] - 0s 35us/sample - loss: 0.0256 - accuracy: 1.0000\n",
      "Epoch 24/100\n",
      "142/142 [==============================] - 0s 35us/sample - loss: 0.0218 - accuracy: 1.0000\n",
      "Epoch 25/100\n",
      "142/142 [==============================] - 0s 42us/sample - loss: 0.0194 - accuracy: 1.0000\n",
      "Epoch 26/100\n",
      "142/142 [==============================] - 0s 49us/sample - loss: 0.0160 - accuracy: 1.0000\n",
      "Epoch 27/100\n",
      "142/142 [==============================] - 0s 35us/sample - loss: 0.0139 - accuracy: 1.0000\n",
      "Epoch 28/100\n",
      "142/142 [==============================] - 0s 42us/sample - loss: 0.0124 - accuracy: 1.0000\n",
      "Epoch 29/100\n",
      "142/142 [==============================] - 0s 42us/sample - loss: 0.0100 - accuracy: 1.0000\n",
      "Epoch 30/100\n",
      "142/142 [==============================] - 0s 42us/sample - loss: 0.0087 - accuracy: 1.0000\n",
      "Epoch 31/100\n",
      "142/142 [==============================] - 0s 42us/sample - loss: 0.0073 - accuracy: 1.0000\n",
      "Epoch 32/100\n",
      "142/142 [==============================] - 0s 42us/sample - loss: 0.0062 - accuracy: 1.0000\n",
      "Epoch 33/100\n",
      "142/142 [==============================] - 0s 35us/sample - loss: 0.0053 - accuracy: 1.0000\n",
      "Epoch 34/100\n",
      "142/142 [==============================] - 0s 50us/sample - loss: 0.0043 - accuracy: 1.0000\n",
      "Epoch 35/100\n",
      "142/142 [==============================] - 0s 42us/sample - loss: 0.0036 - accuracy: 1.0000\n",
      "Epoch 36/100\n",
      "142/142 [==============================] - 0s 42us/sample - loss: 0.0032 - accuracy: 1.0000\n",
      "Epoch 37/100\n",
      "142/142 [==============================] - 0s 49us/sample - loss: 0.0026 - accuracy: 1.0000\n",
      "Epoch 38/100\n",
      "142/142 [==============================] - 0s 49us/sample - loss: 0.0022 - accuracy: 1.0000\n",
      "Epoch 39/100\n",
      "142/142 [==============================] - 0s 42us/sample - loss: 0.0018 - accuracy: 1.0000\n",
      "Epoch 40/100\n",
      "142/142 [==============================] - 0s 42us/sample - loss: 0.0016 - accuracy: 1.0000\n",
      "Epoch 41/100\n",
      "142/142 [==============================] - 0s 42us/sample - loss: 0.0013 - accuracy: 1.0000\n",
      "Epoch 42/100\n",
      "142/142 [==============================] - 0s 35us/sample - loss: 0.0011 - accuracy: 1.0000\n",
      "Epoch 43/100\n",
      "142/142 [==============================] - 0s 42us/sample - loss: 9.0765e-04 - accuracy: 1.0000\n",
      "Epoch 44/100\n",
      "142/142 [==============================] - 0s 42us/sample - loss: 7.4714e-04 - accuracy: 1.0000\n",
      "Epoch 45/100\n",
      "142/142 [==============================] - 0s 35us/sample - loss: 6.3948e-04 - accuracy: 1.0000\n",
      "Epoch 46/100\n",
      "142/142 [==============================] - 0s 42us/sample - loss: 5.2982e-04 - accuracy: 1.0000\n",
      "Epoch 47/100\n",
      "142/142 [==============================] - 0s 42us/sample - loss: 4.3754e-04 - accuracy: 1.0000\n",
      "Epoch 48/100\n",
      "142/142 [==============================] - 0s 49us/sample - loss: 3.6158e-04 - accuracy: 1.0000\n",
      "Epoch 49/100\n",
      "142/142 [==============================] - 0s 42us/sample - loss: 3.1149e-04 - accuracy: 1.0000\n",
      "Epoch 50/100\n",
      "142/142 [==============================] - 0s 42us/sample - loss: 2.5907e-04 - accuracy: 1.0000\n",
      "Epoch 51/100\n",
      "142/142 [==============================] - 0s 42us/sample - loss: 2.0734e-04 - accuracy: 1.0000\n",
      "Epoch 52/100\n",
      "142/142 [==============================] - 0s 42us/sample - loss: 1.7063e-04 - accuracy: 1.0000\n",
      "Epoch 53/100\n",
      "142/142 [==============================] - 0s 42us/sample - loss: 1.4110e-04 - accuracy: 1.0000\n",
      "Epoch 54/100\n",
      "142/142 [==============================] - 0s 42us/sample - loss: 1.1598e-04 - accuracy: 1.0000\n",
      "Epoch 55/100\n",
      "142/142 [==============================] - 0s 42us/sample - loss: 9.7033e-05 - accuracy: 1.0000\n",
      "Epoch 56/100\n",
      "142/142 [==============================] - 0s 49us/sample - loss: 7.9458e-05 - accuracy: 1.0000\n",
      "Epoch 57/100\n",
      "142/142 [==============================] - 0s 50us/sample - loss: 6.9872e-05 - accuracy: 1.0000\n",
      "Epoch 58/100\n",
      "142/142 [==============================] - 0s 42us/sample - loss: 5.3799e-05 - accuracy: 1.0000\n",
      "Epoch 59/100\n",
      "142/142 [==============================] - 0s 35us/sample - loss: 4.6658e-05 - accuracy: 1.0000\n",
      "Epoch 60/100\n",
      "142/142 [==============================] - 0s 42us/sample - loss: 4.0901e-05 - accuracy: 1.0000\n",
      "Epoch 61/100\n",
      "142/142 [==============================] - 0s 42us/sample - loss: 3.0381e-05 - accuracy: 1.0000\n",
      "Epoch 62/100\n",
      "142/142 [==============================] - 0s 42us/sample - loss: 2.7301e-05 - accuracy: 1.0000\n",
      "Epoch 63/100\n",
      "142/142 [==============================] - 0s 49us/sample - loss: 2.2339e-05 - accuracy: 1.0000\n",
      "Epoch 64/100\n",
      "142/142 [==============================] - 0s 42us/sample - loss: 1.8179e-05 - accuracy: 1.0000\n",
      "Epoch 65/100\n",
      "142/142 [==============================] - 0s 42us/sample - loss: 1.4483e-05 - accuracy: 1.0000\n",
      "Epoch 66/100\n",
      "142/142 [==============================] - 0s 42us/sample - loss: 1.2600e-05 - accuracy: 1.0000\n",
      "Epoch 67/100\n",
      "142/142 [==============================] - 0s 35us/sample - loss: 1.0043e-05 - accuracy: 1.0000\n",
      "Epoch 68/100\n",
      "142/142 [==============================] - 0s 42us/sample - loss: 8.7094e-06 - accuracy: 1.0000\n",
      "Epoch 69/100\n",
      "142/142 [==============================] - 0s 49us/sample - loss: 6.8744e-06 - accuracy: 1.0000\n",
      "Epoch 70/100\n",
      "142/142 [==============================] - 0s 42us/sample - loss: 5.8520e-06 - accuracy: 1.0000\n",
      "Epoch 71/100\n",
      "142/142 [==============================] - 0s 49us/sample - loss: 4.3175e-06 - accuracy: 1.0000\n",
      "Epoch 72/100\n",
      "142/142 [==============================] - 0s 42us/sample - loss: 3.7550e-06 - accuracy: 1.0000\n",
      "Epoch 73/100\n",
      "142/142 [==============================] - 0s 35us/sample - loss: 3.3588e-06 - accuracy: 1.0000\n",
      "Epoch 74/100\n",
      "142/142 [==============================] - 0s 42us/sample - loss: 2.5772e-06 - accuracy: 1.0000\n",
      "Epoch 75/100\n",
      "142/142 [==============================] - 0s 35us/sample - loss: 2.1474e-06 - accuracy: 1.0000\n",
      "Epoch 76/100\n",
      "142/142 [==============================] - 0s 35us/sample - loss: 1.7512e-06 - accuracy: 1.0000\n",
      "Epoch 77/100\n",
      "142/142 [==============================] - 0s 35us/sample - loss: 1.4624e-06 - accuracy: 1.0000\n",
      "Epoch 78/100\n",
      "142/142 [==============================] - 0s 35us/sample - loss: 1.1283e-06 - accuracy: 1.0000\n",
      "Epoch 79/100\n",
      "142/142 [==============================] - 0s 42us/sample - loss: 9.8221e-07 - accuracy: 1.0000\n",
      "Epoch 80/100\n",
      "142/142 [==============================] - 0s 42us/sample - loss: 8.5881e-07 - accuracy: 1.0000\n",
      "Epoch 81/100\n",
      "142/142 [==============================] - 0s 35us/sample - loss: 6.7076e-07 - accuracy: 1.0000\n",
      "Epoch 82/100\n",
      "142/142 [==============================] - 0s 35us/sample - loss: 5.5155e-07 - accuracy: 1.0000\n",
      "Epoch 83/100\n",
      "142/142 [==============================] - 0s 35us/sample - loss: 4.8355e-07 - accuracy: 1.0000\n",
      "Epoch 84/100\n",
      "142/142 [==============================] - 0s 42us/sample - loss: 4.0548e-07 - accuracy: 1.0000\n",
      "Epoch 85/100\n",
      "142/142 [==============================] - 0s 42us/sample - loss: 3.1985e-07 - accuracy: 1.0000\n",
      "Epoch 86/100\n",
      "142/142 [==============================] - 0s 35us/sample - loss: 2.7116e-07 - accuracy: 1.0000\n",
      "Epoch 87/100\n",
      "142/142 [==============================] - 0s 42us/sample - loss: 2.3758e-07 - accuracy: 1.0000\n",
      "Epoch 88/100\n",
      "142/142 [==============================] - 0s 35us/sample - loss: 2.1239e-07 - accuracy: 1.0000\n",
      "Epoch 89/100\n",
      "142/142 [==============================] - 0s 35us/sample - loss: 1.7546e-07 - accuracy: 1.0000\n",
      "Epoch 90/100\n",
      "142/142 [==============================] - 0s 35us/sample - loss: 1.5111e-07 - accuracy: 1.0000\n",
      "Epoch 91/100\n",
      "142/142 [==============================] - 0s 35us/sample - loss: 1.2844e-07 - accuracy: 1.0000\n",
      "Epoch 92/100\n",
      "142/142 [==============================] - 0s 35us/sample - loss: 1.1753e-07 - accuracy: 1.0000\n",
      "Epoch 93/100\n",
      "142/142 [==============================] - 0s 42us/sample - loss: 1.0242e-07 - accuracy: 1.0000\n",
      "Epoch 94/100\n",
      "142/142 [==============================] - 0s 35us/sample - loss: 8.7308e-08 - accuracy: 1.0000\n",
      "Epoch 95/100\n",
      "142/142 [==============================] - 0s 35us/sample - loss: 7.7234e-08 - accuracy: 1.0000\n",
      "Epoch 96/100\n",
      "142/142 [==============================] - 0s 35us/sample - loss: 6.8839e-08 - accuracy: 1.0000\n",
      "Epoch 97/100\n",
      "142/142 [==============================] - 0s 35us/sample - loss: 5.7926e-08 - accuracy: 1.0000\n",
      "Epoch 98/100\n",
      "142/142 [==============================] - 0s 42us/sample - loss: 5.5407e-08 - accuracy: 1.0000\n",
      "Epoch 99/100\n",
      "142/142 [==============================] - 0s 42us/sample - loss: 5.1210e-08 - accuracy: 1.0000\n",
      "Epoch 100/100\n",
      "142/142 [==============================] - 0s 35us/sample - loss: 4.8691e-08 - accuracy: 1.0000\n"
     ]
    },
    {
     "data": {
      "text/plain": [
       "<tensorflow.python.keras.callbacks.History at 0x1d7941e96c8>"
      ]
     },
     "execution_count": 6,
     "metadata": {},
     "output_type": "execute_result"
    }
   ],
   "source": [
    "from tensorflow.keras.callbacks import History \n",
    "\n",
    "# add history function to \n",
    "history = History()\n",
    "model.fit(X_train, y_train, epochs=100, callbacks=[history])"
   ]
  },
  {
   "cell_type": "markdown",
   "metadata": {},
   "source": [
    "##### PRINTING RAW OUTPUT"
   ]
  },
  {
   "cell_type": "code",
   "execution_count": 7,
   "metadata": {},
   "outputs": [
    {
     "data": {
      "text/plain": [
       "array([[6.18082794e-08, 4.86137537e-07, 9.99999404e-01],\n",
       "       [1.00000000e+00, 5.41202768e-18, 5.83957795e-14],\n",
       "       [2.90871682e-09, 1.11198995e-12, 1.00000000e+00],\n",
       "       [2.71583433e-16, 1.00000000e+00, 6.66609629e-21],\n",
       "       [8.76038174e-13, 1.00000000e+00, 1.50062813e-15],\n",
       "       [4.13026293e-18, 1.00000000e+00, 2.06882233e-20],\n",
       "       [3.35717809e-09, 2.32890911e-11, 1.00000000e+00],\n",
       "       [9.99999762e-01, 2.26656823e-07, 7.05404224e-09],\n",
       "       [1.20098684e-15, 1.00000000e+00, 5.99717649e-18],\n",
       "       [4.61413871e-15, 1.00000000e+00, 1.09210142e-16],\n",
       "       [1.00000000e+00, 5.83274208e-18, 2.14362096e-16],\n",
       "       [1.00000000e+00, 2.90192619e-18, 4.34108303e-16],\n",
       "       [9.46763067e-12, 2.77316321e-12, 1.00000000e+00],\n",
       "       [1.04668052e-15, 1.00000000e+00, 5.29266862e-19],\n",
       "       [7.32703967e-11, 2.91392209e-15, 1.00000000e+00],\n",
       "       [5.87633830e-10, 1.00000000e+00, 1.72057884e-13],\n",
       "       [8.56595610e-13, 1.00000000e+00, 2.96880677e-14],\n",
       "       [1.00000000e+00, 1.15227517e-16, 1.06858438e-13],\n",
       "       [1.00000000e+00, 1.44887906e-08, 7.37997607e-10],\n",
       "       [1.21772185e-01, 2.59104054e-02, 8.52317333e-01],\n",
       "       [7.05067168e-06, 2.52544214e-06, 9.99990463e-01],\n",
       "       [5.97571633e-16, 1.00000000e+00, 1.87425354e-18],\n",
       "       [1.00000000e+00, 6.46661925e-15, 3.17764952e-14],\n",
       "       [1.00000000e+00, 6.21564093e-14, 4.59075096e-12],\n",
       "       [2.01320252e-10, 1.39678460e-12, 1.00000000e+00],\n",
       "       [3.26041172e-09, 1.00000000e+00, 2.49621122e-11],\n",
       "       [1.04179856e-08, 2.63504774e-10, 1.00000000e+00],\n",
       "       [3.72727057e-14, 1.00000000e+00, 2.95670023e-19],\n",
       "       [1.00000000e+00, 1.60013197e-13, 1.06340076e-11],\n",
       "       [3.86301968e-09, 1.33917493e-14, 1.00000000e+00],\n",
       "       [1.88695414e-15, 1.00000000e+00, 5.31040730e-18],\n",
       "       [1.66685189e-15, 1.00000000e+00, 2.09159186e-17],\n",
       "       [1.00000000e+00, 1.54010589e-21, 8.18576280e-18],\n",
       "       [3.99835924e-21, 1.00000000e+00, 1.06143621e-24],\n",
       "       [1.00000000e+00, 2.63512092e-08, 2.04337081e-09],\n",
       "       [1.00000000e+00, 1.38321288e-16, 4.39551044e-14]], dtype=float32)"
      ]
     },
     "execution_count": 7,
     "metadata": {},
     "output_type": "execute_result"
    }
   ],
   "source": [
    "predictions = model.predict(X_test)\n",
    "predictions"
   ]
  },
  {
   "cell_type": "markdown",
   "metadata": {},
   "source": [
    "##### EVALUATE TESTING SET"
   ]
  },
  {
   "cell_type": "code",
   "execution_count": 8,
   "metadata": {},
   "outputs": [
    {
     "name": "stdout",
     "output_type": "stream",
     "text": [
      "36/36 [==============================] - 0s 2ms/sample - loss: 0.1015 - accuracy: 0.9722\n",
      "\n",
      "Evaluate on test data \n",
      "\n",
      "(loss), (accuracy) :\n",
      "[0.10147557655970256, 0.9722222]\n"
     ]
    }
   ],
   "source": [
    "# Evaluate the model on the test data using `evaluate`\n",
    "results = model.evaluate(X_test, y_test)\n",
    "\n",
    "print('\\nEvaluate on test data \\n\\n(loss), (accuracy) :\\n{}'.format(results))"
   ]
  },
  {
   "cell_type": "markdown",
   "metadata": {},
   "source": [
    "##### PRINTING RESULTS"
   ]
  },
  {
   "cell_type": "code",
   "execution_count": 9,
   "metadata": {},
   "outputs": [
    {
     "name": "stdout",
     "output_type": "stream",
     "text": [
      "\n",
      "\n",
      "Printing results :\n",
      "\n",
      "     Prediction  Target    Hit\n",
      "0            2       2   True\n",
      "1            0       0   True\n",
      "2            2       2   True\n",
      "3            1       1   True\n",
      "4            1       1   True\n",
      "5            1       1   True\n",
      "6            2       2   True\n",
      "7            0       0   True\n",
      "8            1       1   True\n",
      "9            1       1   True\n",
      "10           0       0   True\n",
      "11           0       0   True\n",
      "12           2       2   True\n",
      "13           1       1   True\n",
      "14           2       2   True\n",
      "15           1       1   True\n",
      "16           1       1   True\n",
      "17           0       0   True\n",
      "18           0       0   True\n",
      "19           2       1  False\n",
      "20           2       2   True\n",
      "21           1       1   True\n",
      "22           0       0   True\n",
      "23           0       0   True\n",
      "24           2       2   True\n",
      "25           1       1   True\n",
      "26           2       2   True\n",
      "27           1       1   True\n",
      "28           0       0   True\n",
      "29           2       2   True\n",
      "30           1       1   True\n",
      "31           1       1   True\n",
      "32           0       0   True\n",
      "33           1       1   True\n",
      "34           0       0   True\n",
      "35           0       0   True\n"
     ]
    }
   ],
   "source": [
    "dataframe = pd.DataFrame(np.argmax(predictions,1), columns=['Prediction'])\n",
    "dataframe['Target'] = np.argmax(y_test, 1)\n",
    "dataframe['Hit'] = np.equal(dataframe.Target, dataframe.Prediction)\n",
    "print('\\n\\nPrinting results :\\n\\n', dataframe)"
   ]
  },
  {
   "cell_type": "code",
   "execution_count": 10,
   "metadata": {},
   "outputs": [
    {
     "name": "stdout",
     "output_type": "stream",
     "text": [
      "dict_keys(['loss', 'accuracy'])\n"
     ]
    }
   ],
   "source": [
    "print(history.history.keys())"
   ]
  },
  {
   "cell_type": "markdown",
   "metadata": {},
   "source": [
    "##### VISUALIZE THE RESULTS"
   ]
  },
  {
   "cell_type": "code",
   "execution_count": 11,
   "metadata": {},
   "outputs": [
    {
     "data": {
      "image/png": "[encoded data removed]",
      "text/plain": [
       "<Figure size 432x288 with 1 Axes>"
      ]
     },
     "metadata": {
      "needs_background": "light"
     },
     "output_type": "display_data"
    }
   ],
   "source": [
    "%matplotlib inline\n",
    "import matplotlib.pyplot as plt\n",
    "import matplotlib.patches as mpatches\n",
    "\n",
    "# set up legend\n",
    "blue_patch = mpatches.Patch(color='blue', label='Train Accuracy [Maximize]')\n",
    "plt.legend(handles=[blue_patch])\n",
    "\n",
    "#plot the data\n",
    "plt.plot(history.history['accuracy'], color='blue')\n",
    "plt.ylabel('score');"
   ]
  },
  {
   "cell_type": "markdown",
   "metadata": {},
   "source": [
    "##### VISUALIZE THE LOSS EVOLUTION"
   ]
  },
  {
   "cell_type": "code",
   "execution_count": 12,
   "metadata": {},
   "outputs": [
    {
     "data": {
      "image/png": "[encoded data removed]",
      "text/plain": [
       "<Figure size 432x288 with 1 Axes>"
      ]
     },
     "metadata": {
      "needs_background": "light"
     },
     "output_type": "display_data"
    }
   ],
   "source": [
    "# set up legend\n",
    "green_patch = mpatches.Patch(color='green', label='Avg Loss [Minimize]')\n",
    "plt.legend(handles=[green_patch])\n",
    "\n",
    "#plot the data\n",
    "plt.plot(history.history['loss'], color='green')\n",
    "\n",
    "plt.xlabel('epochs')\n",
    "plt.ylabel('score');"
   ]
  },
  {
   "cell_type": "markdown",
   "metadata": {},
   "source": [
    "##### SAVE MODEL FOR FUTURE RESTORE"
   ]
  },
  {
   "cell_type": "code",
   "execution_count": 13,
   "metadata": {},
   "outputs": [],
   "source": [
    "import os\n",
    "\n",
    "# create dir folders if they don't exits\n",
    "os.makedirs('output/keras_checkpoints', exist_ok=True)\n",
    "\n",
    "# save the trained model\n",
    "model.save('output/keras_checkpoints/mlp_wine_tf_keras.h5')"
   ]
  },
  {
   "cell_type": "markdown",
   "metadata": {},
   "source": [
    "##### LOAD PRETRAINED MODEL"
   ]
  },
  {
   "cell_type": "code",
   "execution_count": 14,
   "metadata": {},
   "outputs": [],
   "source": [
    "model.load_weights('output/keras_checkpoints/mlp_wine_tf_keras.h5')"
   ]
  },
  {
   "cell_type": "markdown",
   "metadata": {},
   "source": [
    "##### TESTING PRETRAINED MODEL"
   ]
  },
  {
   "cell_type": "code",
   "execution_count": 15,
   "metadata": {},
   "outputs": [
    {
     "name": "stdout",
     "output_type": "stream",
     "text": [
      "\n",
      "\n",
      "Printing results :\n",
      "\n",
      "     Prediction  Target    Hit\n",
      "0            2       2   True\n",
      "1            0       0   True\n",
      "2            2       2   True\n",
      "3            1       1   True\n",
      "4            1       1   True\n",
      "5            1       1   True\n",
      "6            2       2   True\n",
      "7            0       0   True\n",
      "8            1       1   True\n",
      "9            1       1   True\n",
      "10           0       0   True\n",
      "11           0       0   True\n",
      "12           2       2   True\n",
      "13           1       1   True\n",
      "14           2       2   True\n",
      "15           1       1   True\n",
      "16           1       1   True\n",
      "17           0       0   True\n",
      "18           0       0   True\n",
      "19           2       1  False\n",
      "20           2       2   True\n",
      "21           1       1   True\n",
      "22           0       0   True\n",
      "23           0       0   True\n",
      "24           2       2   True\n",
      "25           1       1   True\n",
      "26           2       2   True\n",
      "27           1       1   True\n",
      "28           0       0   True\n",
      "29           2       2   True\n",
      "30           1       1   True\n",
      "31           1       1   True\n",
      "32           0       0   True\n",
      "33           1       1   True\n",
      "34           0       0   True\n",
      "35           0       0   True\n"
     ]
    }
   ],
   "source": [
    "dataframe = pd.DataFrame(np.argmax(predictions,1), columns=['Prediction'])\n",
    "dataframe['Target'] = np.argmax(y_test, 1)\n",
    "dataframe['Hit'] = np.equal(dataframe.Target, dataframe.Prediction)\n",
    "print('\\n\\nPrinting results :\\n\\n', dataframe)"
   ]
  },
  {
   "cell_type": "code",
   "execution_count": null,
   "metadata": {},
   "outputs": [],
   "source": []
  }
 ],
 "metadata": {
  "kernelspec": {
   "display_name": "Python 3",
   "language": "python",
   "name": "python3"
  },
  "language_info": {
   "codemirror_mode": {
    "name": "ipython",
    "version": 3
   },
   "file_extension": ".py",
   "mimetype": "text/x-python",
   "name": "python",
   "nbconvert_exporter": "python",
   "pygments_lexer": "ipython3",
   "version": "3.5.6"
  }
 },
 "nbformat": 4,
 "nbformat_minor": 2
}

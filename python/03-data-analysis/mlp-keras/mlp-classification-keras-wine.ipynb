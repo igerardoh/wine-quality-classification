{
 "cells": [
  {
   "cell_type": "markdown",
   "metadata": {},
   "source": [
    "# Wine Quality Classifier"
   ]
  },
  {
   "cell_type": "markdown",
   "metadata": {},
   "source": [
    "<p><b>Status: <span style=color:orange;>In process</span></b></p>"
   ]
  },
  {
   "cell_type": "markdown",
   "metadata": {},
   "source": [
    "##### LOAD THE FEATURE DATA"
   ]
  },
  {
   "cell_type": "code",
   "execution_count": 1,
   "metadata": {},
   "outputs": [
    {
     "name": "stdout",
     "output_type": "stream",
     "text": [
      "Feature data, shape:\n",
      "X: (178, 13)\n"
     ]
    },
    {
     "data": {
      "text/html": [
       "<div>\n",
       "<style scoped>\n",
       "    .dataframe tbody tr th:only-of-type {\n",
       "        vertical-align: middle;\n",
       "    }\n",
       "\n",
       "    .dataframe tbody tr th {\n",
       "        vertical-align: top;\n",
       "    }\n",
       "\n",
       "    .dataframe thead th {\n",
       "        text-align: right;\n",
       "    }\n",
       "</style>\n",
       "<table border=\"1\" class=\"dataframe\">\n",
       "  <thead>\n",
       "    <tr style=\"text-align: right;\">\n",
       "      <th></th>\n",
       "      <th>Alcohol</th>\n",
       "      <th>Malic_acid</th>\n",
       "      <th>Ash</th>\n",
       "      <th>Alcalinity</th>\n",
       "      <th>Magnesium</th>\n",
       "      <th>Total_phenols</th>\n",
       "      <th>Flavanoids</th>\n",
       "      <th>Nonflavanoid_phenols</th>\n",
       "      <th>Proanthocyanins</th>\n",
       "      <th>Color_intensity</th>\n",
       "      <th>Hue</th>\n",
       "      <th>OD280_OD315</th>\n",
       "      <th>Proline</th>\n",
       "    </tr>\n",
       "  </thead>\n",
       "  <tbody>\n",
       "    <tr>\n",
       "      <th>0</th>\n",
       "      <td>1.518613</td>\n",
       "      <td>-0.562250</td>\n",
       "      <td>0.232053</td>\n",
       "      <td>-1.169593</td>\n",
       "      <td>1.913905</td>\n",
       "      <td>0.808997</td>\n",
       "      <td>1.034819</td>\n",
       "      <td>-0.659563</td>\n",
       "      <td>1.224884</td>\n",
       "      <td>0.251717</td>\n",
       "      <td>0.362177</td>\n",
       "      <td>1.847920</td>\n",
       "      <td>1.013009</td>\n",
       "    </tr>\n",
       "    <tr>\n",
       "      <th>1</th>\n",
       "      <td>0.246290</td>\n",
       "      <td>-0.499413</td>\n",
       "      <td>-0.827996</td>\n",
       "      <td>-2.490847</td>\n",
       "      <td>0.018145</td>\n",
       "      <td>0.568648</td>\n",
       "      <td>0.733629</td>\n",
       "      <td>-0.820719</td>\n",
       "      <td>-0.544721</td>\n",
       "      <td>-0.293321</td>\n",
       "      <td>0.406051</td>\n",
       "      <td>1.113449</td>\n",
       "      <td>0.965242</td>\n",
       "    </tr>\n",
       "    <tr>\n",
       "      <th>2</th>\n",
       "      <td>0.196879</td>\n",
       "      <td>0.021231</td>\n",
       "      <td>1.109334</td>\n",
       "      <td>-0.268738</td>\n",
       "      <td>0.088358</td>\n",
       "      <td>0.808997</td>\n",
       "      <td>1.215533</td>\n",
       "      <td>-0.498407</td>\n",
       "      <td>2.135968</td>\n",
       "      <td>0.269020</td>\n",
       "      <td>0.318304</td>\n",
       "      <td>0.788587</td>\n",
       "      <td>1.395148</td>\n",
       "    </tr>\n",
       "    <tr>\n",
       "      <th>3</th>\n",
       "      <td>1.691550</td>\n",
       "      <td>-0.346811</td>\n",
       "      <td>0.487926</td>\n",
       "      <td>-0.809251</td>\n",
       "      <td>0.930918</td>\n",
       "      <td>2.491446</td>\n",
       "      <td>1.466525</td>\n",
       "      <td>-0.981875</td>\n",
       "      <td>1.032155</td>\n",
       "      <td>1.186068</td>\n",
       "      <td>-0.427544</td>\n",
       "      <td>1.184071</td>\n",
       "      <td>2.334574</td>\n",
       "    </tr>\n",
       "    <tr>\n",
       "      <th>4</th>\n",
       "      <td>0.295700</td>\n",
       "      <td>0.227694</td>\n",
       "      <td>1.840403</td>\n",
       "      <td>0.451946</td>\n",
       "      <td>1.281985</td>\n",
       "      <td>0.808997</td>\n",
       "      <td>0.663351</td>\n",
       "      <td>0.226796</td>\n",
       "      <td>0.401404</td>\n",
       "      <td>-0.319276</td>\n",
       "      <td>0.362177</td>\n",
       "      <td>0.449601</td>\n",
       "      <td>-0.037874</td>\n",
       "    </tr>\n",
       "  </tbody>\n",
       "</table>\n",
       "</div>"
      ],
      "text/plain": [
       "    Alcohol  Malic_acid       Ash  Alcalinity  Magnesium  Total_phenols  \\\n",
       "0  1.518613   -0.562250  0.232053   -1.169593   1.913905       0.808997   \n",
       "1  0.246290   -0.499413 -0.827996   -2.490847   0.018145       0.568648   \n",
       "2  0.196879    0.021231  1.109334   -0.268738   0.088358       0.808997   \n",
       "3  1.691550   -0.346811  0.487926   -0.809251   0.930918       2.491446   \n",
       "4  0.295700    0.227694  1.840403    0.451946   1.281985       0.808997   \n",
       "\n",
       "   Flavanoids  Nonflavanoid_phenols  Proanthocyanins  Color_intensity  \\\n",
       "0    1.034819             -0.659563         1.224884         0.251717   \n",
       "1    0.733629             -0.820719        -0.544721        -0.293321   \n",
       "2    1.215533             -0.498407         2.135968         0.269020   \n",
       "3    1.466525             -0.981875         1.032155         1.186068   \n",
       "4    0.663351              0.226796         0.401404        -0.319276   \n",
       "\n",
       "        Hue  OD280_OD315   Proline  \n",
       "0  0.362177     1.847920  1.013009  \n",
       "1  0.406051     1.113449  0.965242  \n",
       "2  0.318304     0.788587  1.395148  \n",
       "3 -0.427544     1.184071  2.334574  \n",
       "4  0.362177     0.449601 -0.037874  "
      ]
     },
     "execution_count": 1,
     "metadata": {},
     "output_type": "execute_result"
    }
   ],
   "source": [
    "import pandas as pd\n",
    "import numpy as np\n",
    "\n",
    "X = pd.read_csv('../../02-data-preprocessing/output/preprocessed_data/X.csv', sep=',')\n",
    "\n",
    "print ('Feature data, shape:\\nX: {}'.format(X.shape))\n",
    "X.head()"
   ]
  },
  {
   "cell_type": "markdown",
   "metadata": {},
   "source": [
    "##### DATA OVERVIEW"
   ]
  },
  {
   "cell_type": "code",
   "execution_count": 2,
   "metadata": {},
   "outputs": [
    {
     "name": "stdout",
     "output_type": "stream",
     "text": [
      "Target data, shape:\n",
      "y: (178, 13)\n"
     ]
    },
    {
     "data": {
      "text/html": [
       "<div>\n",
       "<style scoped>\n",
       "    .dataframe tbody tr th:only-of-type {\n",
       "        vertical-align: middle;\n",
       "    }\n",
       "\n",
       "    .dataframe tbody tr th {\n",
       "        vertical-align: top;\n",
       "    }\n",
       "\n",
       "    .dataframe thead th {\n",
       "        text-align: right;\n",
       "    }\n",
       "</style>\n",
       "<table border=\"1\" class=\"dataframe\">\n",
       "  <thead>\n",
       "    <tr style=\"text-align: right;\">\n",
       "      <th></th>\n",
       "      <th>1</th>\n",
       "      <th>2</th>\n",
       "      <th>3</th>\n",
       "    </tr>\n",
       "  </thead>\n",
       "  <tbody>\n",
       "    <tr>\n",
       "      <th>0</th>\n",
       "      <td>1</td>\n",
       "      <td>0</td>\n",
       "      <td>0</td>\n",
       "    </tr>\n",
       "    <tr>\n",
       "      <th>1</th>\n",
       "      <td>1</td>\n",
       "      <td>0</td>\n",
       "      <td>0</td>\n",
       "    </tr>\n",
       "    <tr>\n",
       "      <th>2</th>\n",
       "      <td>1</td>\n",
       "      <td>0</td>\n",
       "      <td>0</td>\n",
       "    </tr>\n",
       "    <tr>\n",
       "      <th>3</th>\n",
       "      <td>1</td>\n",
       "      <td>0</td>\n",
       "      <td>0</td>\n",
       "    </tr>\n",
       "    <tr>\n",
       "      <th>4</th>\n",
       "      <td>1</td>\n",
       "      <td>0</td>\n",
       "      <td>0</td>\n",
       "    </tr>\n",
       "  </tbody>\n",
       "</table>\n",
       "</div>"
      ],
      "text/plain": [
       "   1  2  3\n",
       "0  1  0  0\n",
       "1  1  0  0\n",
       "2  1  0  0\n",
       "3  1  0  0\n",
       "4  1  0  0"
      ]
     },
     "execution_count": 2,
     "metadata": {},
     "output_type": "execute_result"
    }
   ],
   "source": [
    "y = pd.read_csv('../../02-data-preprocessing/output/preprocessed_data/y.csv', sep=',')\n",
    "\n",
    "print ('Target data, shape:\\ny: {}'.format(X.shape))\n",
    "y.head()"
   ]
  },
  {
   "cell_type": "markdown",
   "metadata": {},
   "source": [
    "##### SPLIT THE DATA"
   ]
  },
  {
   "cell_type": "code",
   "execution_count": 3,
   "metadata": {},
   "outputs": [
    {
     "name": "stdout",
     "output_type": "stream",
     "text": [
      "Data shapes:\n",
      "\n",
      "X_train : (142, 13)\n",
      "y_train : (142, 3)\n",
      "\n",
      "X_test : (36, 13)\n",
      "y_test : (36, 3)\n"
     ]
    }
   ],
   "source": [
    "from sklearn.model_selection import train_test_split\n",
    "\n",
    "# set the seed for reproducibility\n",
    "np.random.seed(127)\n",
    "\n",
    "# split the dataset into 2 training and 2 testing sets\n",
    "X_train, X_test, y_train, y_test = train_test_split(X.values, y.values, test_size=0.2, random_state=13)\n",
    "\n",
    "print('Data shapes:\\n')\n",
    "print('X_train : {}\\ny_train : {}\\n\\nX_test : {}\\ny_test : {}'.format(np.shape(X_train),\n",
    "                                                                      np.shape(y_train),\n",
    "                                                                      np.shape(X_test),\n",
    "                                                                      np.shape(y_test)))"
   ]
  },
  {
   "cell_type": "markdown",
   "metadata": {},
   "source": [
    "##### DEFINE NETWORK PARAMETERS"
   ]
  },
  {
   "cell_type": "code",
   "execution_count": 4,
   "metadata": {},
   "outputs": [],
   "source": [
    "# define number of attributes\n",
    "n_features = X_train.shape[1]    \n",
    "n_classes = y_train.shape[1]\n",
    "\n",
    "# count number of samples in each set of data\n",
    "n_train = X_train.shape[0]\n",
    "n_test = X_test.shape[0]\n",
    "\n",
    "# define amount of neurons\n",
    "n_layer_in = n_features  # 11 neurons in input layer\n",
    "n_layer_h1 = 50          # first   hidden layer\n",
    "n_layer_h2 = 50          # second  hidden layer\n",
    "n_layer_out = n_classes  # 7 neurons in input layer\n",
    "\n",
    "sigma_init = 0.01   # For randomized initialization"
   ]
  },
  {
   "cell_type": "markdown",
   "metadata": {},
   "source": [
    "##### MODEL ARCHITECTURE"
   ]
  },
  {
   "cell_type": "code",
   "execution_count": 5,
   "metadata": {},
   "outputs": [
    {
     "name": "stderr",
     "output_type": "stream",
     "text": [
      "Using TensorFlow backend.\n"
     ]
    },
    {
     "name": "stdout",
     "output_type": "stream",
     "text": [
      "_________________________________________________________________\n",
      "Layer (type)                 Output Shape              Param #   \n",
      "=================================================================\n",
      "dense_1 (Dense)              (None, 50)                700       \n",
      "_________________________________________________________________\n",
      "dense_2 (Dense)              (None, 50)                2550      \n",
      "_________________________________________________________________\n",
      "dense_3 (Dense)              (None, 3)                 153       \n",
      "=================================================================\n",
      "Total params: 3,403\n",
      "Trainable params: 3,403\n",
      "Non-trainable params: 0\n",
      "_________________________________________________________________\n"
     ]
    }
   ],
   "source": [
    "from keras.models import Sequential\n",
    "from keras.layers import Dense\n",
    "\n",
    "# fix random seed for reproducibility\n",
    "np.random.seed(42)\n",
    "\n",
    "# define model architecture\n",
    "model = Sequential()\n",
    "model.add(Dense(n_layer_h1, activation='relu', input_shape=(n_features,)))\n",
    "model.add(Dense(n_layer_h2, activation='relu'))\n",
    "model.add(Dense(n_classes, activation='softmax'))\n",
    "\n",
    "# add model's configuration\n",
    "model.compile(optimizer='rmsprop', loss='categorical_crossentropy', metrics=['accuracy'])\n",
    "\n",
    "# show model architecture\n",
    "model.summary()"
   ]
  },
  {
   "cell_type": "markdown",
   "metadata": {},
   "source": [
    "##### EXECUTE THE MODEL"
   ]
  },
  {
   "cell_type": "code",
   "execution_count": 6,
   "metadata": {
    "scrolled": false
   },
   "outputs": [
    {
     "name": "stdout",
     "output_type": "stream",
     "text": [
      "Epoch 1/100\n",
      "142/142 [==============================] - 0s 939us/step - loss: 0.9972 - acc: 0.4930\n",
      "Epoch 2/100\n",
      "142/142 [==============================] - 0s 28us/step - loss: 0.7102 - acc: 0.8873\n",
      "Epoch 3/100\n",
      "142/142 [==============================] - 0s 28us/step - loss: 0.5539 - acc: 0.9366\n",
      "Epoch 4/100\n",
      "142/142 [==============================] - 0s 28us/step - loss: 0.4459 - acc: 0.9507\n",
      "Epoch 5/100\n",
      "142/142 [==============================] - 0s 28us/step - loss: 0.3625 - acc: 0.9577\n",
      "Epoch 6/100\n",
      "142/142 [==============================] - 0s 35us/step - loss: 0.2950 - acc: 0.9718\n",
      "Epoch 7/100\n",
      "142/142 [==============================] - 0s 35us/step - loss: 0.2438 - acc: 0.9718\n",
      "Epoch 8/100\n",
      "142/142 [==============================] - 0s 28us/step - loss: 0.2029 - acc: 0.9789\n",
      "Epoch 9/100\n",
      "142/142 [==============================] - 0s 28us/step - loss: 0.1686 - acc: 0.9859\n",
      "Epoch 10/100\n",
      "142/142 [==============================] - 0s 28us/step - loss: 0.1412 - acc: 0.9859\n",
      "Epoch 11/100\n",
      "142/142 [==============================] - 0s 28us/step - loss: 0.1193 - acc: 0.9859\n",
      "Epoch 12/100\n",
      "142/142 [==============================] - 0s 21us/step - loss: 0.1015 - acc: 0.9859\n",
      "Epoch 13/100\n",
      "142/142 [==============================] - 0s 28us/step - loss: 0.0867 - acc: 0.9859\n",
      "Epoch 14/100\n",
      "142/142 [==============================] - 0s 35us/step - loss: 0.0753 - acc: 0.9859\n",
      "Epoch 15/100\n",
      "142/142 [==============================] - 0s 21us/step - loss: 0.0647 - acc: 0.9930\n",
      "Epoch 16/100\n",
      "142/142 [==============================] - 0s 28us/step - loss: 0.0553 - acc: 0.9859\n",
      "Epoch 17/100\n",
      "142/142 [==============================] - 0s 28us/step - loss: 0.0478 - acc: 0.9859\n",
      "Epoch 18/100\n",
      "142/142 [==============================] - 0s 21us/step - loss: 0.0417 - acc: 0.9930\n",
      "Epoch 19/100\n",
      "142/142 [==============================] - 0s 28us/step - loss: 0.0357 - acc: 0.9930\n",
      "Epoch 20/100\n",
      "142/142 [==============================] - 0s 28us/step - loss: 0.0316 - acc: 0.9930\n",
      "Epoch 21/100\n",
      "142/142 [==============================] - 0s 35us/step - loss: 0.0268 - acc: 1.0000\n",
      "Epoch 22/100\n",
      "142/142 [==============================] - 0s 28us/step - loss: 0.0234 - acc: 1.0000\n",
      "Epoch 23/100\n",
      "142/142 [==============================] - 0s 28us/step - loss: 0.0200 - acc: 1.0000\n",
      "Epoch 24/100\n",
      "142/142 [==============================] - 0s 21us/step - loss: 0.0176 - acc: 1.0000\n",
      "Epoch 25/100\n",
      "142/142 [==============================] - 0s 21us/step - loss: 0.0149 - acc: 1.0000\n",
      "Epoch 26/100\n",
      "142/142 [==============================] - 0s 21us/step - loss: 0.0131 - acc: 1.0000\n",
      "Epoch 27/100\n",
      "142/142 [==============================] - 0s 28us/step - loss: 0.0113 - acc: 1.0000\n",
      "Epoch 28/100\n",
      "142/142 [==============================] - 0s 28us/step - loss: 0.0098 - acc: 1.0000\n",
      "Epoch 29/100\n",
      "142/142 [==============================] - 0s 21us/step - loss: 0.0085 - acc: 1.0000\n",
      "Epoch 30/100\n",
      "142/142 [==============================] - 0s 21us/step - loss: 0.0074 - acc: 1.0000\n",
      "Epoch 31/100\n",
      "142/142 [==============================] - 0s 21us/step - loss: 0.0063 - acc: 1.0000\n",
      "Epoch 32/100\n",
      "142/142 [==============================] - 0s 28us/step - loss: 0.0054 - acc: 1.0000\n",
      "Epoch 33/100\n",
      "142/142 [==============================] - 0s 21us/step - loss: 0.0047 - acc: 1.0000\n",
      "Epoch 34/100\n",
      "142/142 [==============================] - 0s 28us/step - loss: 0.0042 - acc: 1.0000\n",
      "Epoch 35/100\n",
      "142/142 [==============================] - 0s 28us/step - loss: 0.0035 - acc: 1.0000\n",
      "Epoch 36/100\n",
      "142/142 [==============================] - 0s 35us/step - loss: 0.0030 - acc: 1.0000\n",
      "Epoch 37/100\n",
      "142/142 [==============================] - 0s 21us/step - loss: 0.0025 - acc: 1.0000\n",
      "Epoch 38/100\n",
      "142/142 [==============================] - 0s 28us/step - loss: 0.0022 - acc: 1.0000\n",
      "Epoch 39/100\n",
      "142/142 [==============================] - 0s 28us/step - loss: 0.0019 - acc: 1.0000\n",
      "Epoch 40/100\n",
      "142/142 [==============================] - 0s 28us/step - loss: 0.0016 - acc: 1.0000\n",
      "Epoch 41/100\n",
      "142/142 [==============================] - 0s 21us/step - loss: 0.0014 - acc: 1.0000\n",
      "Epoch 42/100\n",
      "142/142 [==============================] - 0s 28us/step - loss: 0.0012 - acc: 1.0000\n",
      "Epoch 43/100\n",
      "142/142 [==============================] - 0s 28us/step - loss: 0.0010 - acc: 1.0000\n",
      "Epoch 44/100\n",
      "142/142 [==============================] - 0s 21us/step - loss: 8.6979e-04 - acc: 1.0000\n",
      "Epoch 45/100\n",
      "142/142 [==============================] - 0s 28us/step - loss: 7.4510e-04 - acc: 1.0000\n",
      "Epoch 46/100\n",
      "142/142 [==============================] - 0s 28us/step - loss: 6.2292e-04 - acc: 1.0000\n",
      "Epoch 47/100\n",
      "142/142 [==============================] - 0s 28us/step - loss: 5.2802e-04 - acc: 1.0000\n",
      "Epoch 48/100\n",
      "142/142 [==============================] - 0s 28us/step - loss: 4.4663e-04 - acc: 1.0000\n",
      "Epoch 49/100\n",
      "142/142 [==============================] - 0s 28us/step - loss: 3.9077e-04 - acc: 1.0000\n",
      "Epoch 50/100\n",
      "142/142 [==============================] - 0s 28us/step - loss: 3.1735e-04 - acc: 1.0000\n",
      "Epoch 51/100\n",
      "142/142 [==============================] - 0s 21us/step - loss: 2.6152e-04 - acc: 1.0000\n",
      "Epoch 52/100\n",
      "142/142 [==============================] - 0s 21us/step - loss: 2.2052e-04 - acc: 1.0000\n",
      "Epoch 53/100\n",
      "142/142 [==============================] - 0s 21us/step - loss: 1.8842e-04 - acc: 1.0000\n",
      "Epoch 54/100\n",
      "142/142 [==============================] - 0s 28us/step - loss: 1.5943e-04 - acc: 1.0000\n",
      "Epoch 55/100\n",
      "142/142 [==============================] - 0s 21us/step - loss: 1.3075e-04 - acc: 1.0000\n",
      "Epoch 56/100\n",
      "142/142 [==============================] - 0s 28us/step - loss: 1.0632e-04 - acc: 1.0000\n",
      "Epoch 57/100\n",
      "142/142 [==============================] - 0s 28us/step - loss: 8.3291e-05 - acc: 1.0000\n",
      "Epoch 58/100\n",
      "142/142 [==============================] - 0s 21us/step - loss: 7.1028e-05 - acc: 1.0000\n",
      "Epoch 59/100\n",
      "142/142 [==============================] - 0s 21us/step - loss: 6.3746e-05 - acc: 1.0000\n",
      "Epoch 60/100\n",
      "142/142 [==============================] - 0s 28us/step - loss: 5.3473e-05 - acc: 1.0000\n",
      "Epoch 61/100\n",
      "142/142 [==============================] - 0s 21us/step - loss: 4.4624e-05 - acc: 1.0000\n",
      "Epoch 62/100\n",
      "142/142 [==============================] - 0s 28us/step - loss: 3.6596e-05 - acc: 1.0000\n",
      "Epoch 63/100\n",
      "142/142 [==============================] - 0s 28us/step - loss: 3.0268e-05 - acc: 1.0000\n",
      "Epoch 64/100\n",
      "142/142 [==============================] - 0s 21us/step - loss: 2.3864e-05 - acc: 1.0000\n",
      "Epoch 65/100\n",
      "142/142 [==============================] - 0s 21us/step - loss: 2.0312e-05 - acc: 1.0000\n",
      "Epoch 66/100\n",
      "142/142 [==============================] - 0s 21us/step - loss: 1.6099e-05 - acc: 1.0000\n",
      "Epoch 67/100\n",
      "142/142 [==============================] - 0s 28us/step - loss: 1.3295e-05 - acc: 1.0000\n",
      "Epoch 68/100\n",
      "142/142 [==============================] - 0s 28us/step - loss: 1.1247e-05 - acc: 1.0000\n",
      "Epoch 69/100\n",
      "142/142 [==============================] - 0s 28us/step - loss: 9.0540e-06 - acc: 1.0000\n",
      "Epoch 70/100\n",
      "142/142 [==============================] - 0s 28us/step - loss: 7.6308e-06 - acc: 1.0000\n",
      "Epoch 71/100\n",
      "142/142 [==============================] - 0s 28us/step - loss: 6.2102e-06 - acc: 1.0000\n",
      "Epoch 72/100\n",
      "142/142 [==============================] - 0s 21us/step - loss: 5.5906e-06 - acc: 1.0000\n",
      "Epoch 73/100\n",
      "142/142 [==============================] - 0s 28us/step - loss: 4.5885e-06 - acc: 1.0000\n",
      "Epoch 74/100\n",
      "142/142 [==============================] - 0s 21us/step - loss: 3.7935e-06 - acc: 1.0000\n",
      "Epoch 75/100\n",
      "142/142 [==============================] - 0s 28us/step - loss: 3.0000e-06 - acc: 1.0000\n",
      "Epoch 76/100\n",
      "142/142 [==============================] - 0s 28us/step - loss: 2.4758e-06 - acc: 1.0000\n",
      "Epoch 77/100\n",
      "142/142 [==============================] - 0s 21us/step - loss: 2.0912e-06 - acc: 1.0000\n",
      "Epoch 78/100\n",
      "142/142 [==============================] - 0s 21us/step - loss: 1.8457e-06 - acc: 1.0000\n",
      "Epoch 79/100\n",
      "142/142 [==============================] - 0s 28us/step - loss: 1.4440e-06 - acc: 1.0000\n",
      "Epoch 80/100\n",
      "142/142 [==============================] - 0s 28us/step - loss: 1.2185e-06 - acc: 1.0000\n",
      "Epoch 81/100\n",
      "142/142 [==============================] - 0s 28us/step - loss: 9.8810e-07 - acc: 1.0000\n",
      "Epoch 82/100\n",
      "142/142 [==============================] - 0s 28us/step - loss: 8.5630e-07 - acc: 1.0000\n",
      "Epoch 83/100\n"
     ]
    },
    {
     "name": "stdout",
     "output_type": "stream",
     "text": [
      "142/142 [==============================] - 0s 28us/step - loss: 7.2995e-07 - acc: 1.0000\n",
      "Epoch 84/100\n",
      "142/142 [==============================] - 0s 21us/step - loss: 6.3383e-07 - acc: 1.0000\n",
      "Epoch 85/100\n",
      "142/142 [==============================] - 0s 21us/step - loss: 5.2301e-07 - acc: 1.0000\n",
      "Epoch 86/100\n",
      "142/142 [==============================] - 0s 28us/step - loss: 4.6341e-07 - acc: 1.0000\n",
      "Epoch 87/100\n",
      "142/142 [==============================] - 0s 28us/step - loss: 4.2857e-07 - acc: 1.0000\n",
      "Epoch 88/100\n",
      "142/142 [==============================] - 0s 28us/step - loss: 3.7820e-07 - acc: 1.0000\n",
      "Epoch 89/100\n",
      "142/142 [==============================] - 0s 21us/step - loss: 3.0978e-07 - acc: 1.0000\n",
      "Epoch 90/100\n",
      "142/142 [==============================] - 0s 28us/step - loss: 2.7704e-07 - acc: 1.0000\n",
      "Epoch 91/100\n",
      "142/142 [==============================] - 0s 21us/step - loss: 2.6151e-07 - acc: 1.0000\n",
      "Epoch 92/100\n",
      "142/142 [==============================] - 0s 21us/step - loss: 2.3422e-07 - acc: 1.0000\n",
      "Epoch 93/100\n",
      "142/142 [==============================] - 0s 21us/step - loss: 2.1491e-07 - acc: 1.0000\n",
      "Epoch 94/100\n",
      "142/142 [==============================] - 0s 21us/step - loss: 2.0316e-07 - acc: 1.0000\n",
      "Epoch 95/100\n",
      "142/142 [==============================] - 0s 28us/step - loss: 1.9602e-07 - acc: 1.0000\n",
      "Epoch 96/100\n",
      "142/142 [==============================] - 0s 28us/step - loss: 1.8511e-07 - acc: 1.0000\n",
      "Epoch 97/100\n",
      "142/142 [==============================] - 0s 28us/step - loss: 1.7672e-07 - acc: 1.0000\n",
      "Epoch 98/100\n",
      "142/142 [==============================] - 0s 28us/step - loss: 1.6412e-07 - acc: 1.0000\n",
      "Epoch 99/100\n",
      "142/142 [==============================] - 0s 28us/step - loss: 1.5951e-07 - acc: 1.0000\n",
      "Epoch 100/100\n",
      "142/142 [==============================] - 0s 28us/step - loss: 1.5993e-07 - acc: 1.0000\n"
     ]
    },
    {
     "data": {
      "text/plain": [
       "<keras.callbacks.History at 0x1f68dab46d8>"
      ]
     },
     "execution_count": 6,
     "metadata": {},
     "output_type": "execute_result"
    }
   ],
   "source": [
    "from tensorflow.keras.callbacks import History \n",
    "\n",
    "# add history function to \n",
    "history = History()\n",
    "model.fit(X_train, y_train, epochs=100, callbacks=[history])"
   ]
  },
  {
   "cell_type": "markdown",
   "metadata": {},
   "source": [
    "##### PRINTING RAW OUTPUT"
   ]
  },
  {
   "cell_type": "code",
   "execution_count": 7,
   "metadata": {},
   "outputs": [
    {
     "data": {
      "text/plain": [
       "array([[3.05300407e-09, 1.75886655e-07, 9.99999762e-01],\n",
       "       [1.00000000e+00, 2.61890444e-17, 4.85437208e-15],\n",
       "       [5.38089484e-13, 3.61498619e-14, 1.00000000e+00],\n",
       "       [8.53482270e-13, 1.00000000e+00, 4.07490204e-14],\n",
       "       [8.01561768e-12, 1.00000000e+00, 7.17284982e-14],\n",
       "       [9.63445317e-17, 1.00000000e+00, 2.77696178e-17],\n",
       "       [2.55443999e-09, 4.74595030e-10, 1.00000000e+00],\n",
       "       [9.99999881e-01, 7.47529825e-08, 8.66261063e-10],\n",
       "       [1.93064114e-15, 1.00000000e+00, 1.14737632e-15],\n",
       "       [1.29270789e-14, 1.00000000e+00, 3.62889794e-15],\n",
       "       [1.00000000e+00, 8.86494756e-17, 1.51385805e-15],\n",
       "       [1.00000000e+00, 3.78907244e-18, 5.75204813e-18],\n",
       "       [1.52164685e-13, 2.75670274e-13, 1.00000000e+00],\n",
       "       [2.30998976e-13, 1.00000000e+00, 7.01144693e-15],\n",
       "       [7.41000794e-13, 8.40749180e-16, 1.00000000e+00],\n",
       "       [3.09228199e-09, 1.00000000e+00, 1.07695623e-11],\n",
       "       [1.62959544e-13, 1.00000000e+00, 4.50117205e-14],\n",
       "       [1.00000000e+00, 4.56760111e-14, 5.16738128e-12],\n",
       "       [1.00000000e+00, 1.78787491e-08, 1.06671665e-10],\n",
       "       [1.44088687e-03, 9.97356772e-01, 1.20235072e-03],\n",
       "       [1.00827256e-05, 5.45249740e-03, 9.94537413e-01],\n",
       "       [1.13427228e-16, 1.00000000e+00, 2.81158293e-17],\n",
       "       [1.00000000e+00, 3.34557241e-15, 1.08529154e-14],\n",
       "       [1.00000000e+00, 2.40140134e-12, 1.51700597e-11],\n",
       "       [9.15120757e-12, 3.37791947e-12, 1.00000000e+00],\n",
       "       [1.45049514e-10, 1.00000000e+00, 1.72894880e-12],\n",
       "       [5.15259155e-11, 1.36726974e-09, 1.00000000e+00],\n",
       "       [1.51622996e-12, 1.00000000e+00, 1.30856161e-15],\n",
       "       [1.00000000e+00, 9.11230523e-14, 1.40570043e-12],\n",
       "       [3.70639256e-14, 8.95703262e-17, 1.00000000e+00],\n",
       "       [1.06382870e-15, 1.00000000e+00, 1.34868874e-16],\n",
       "       [8.32195302e-14, 1.00000000e+00, 3.10533459e-15],\n",
       "       [1.00000000e+00, 4.11197738e-19, 1.59841523e-16],\n",
       "       [1.64356781e-20, 1.00000000e+00, 9.83408696e-22],\n",
       "       [1.00000000e+00, 4.42779147e-09, 1.89896043e-10],\n",
       "       [1.00000000e+00, 6.84242024e-15, 3.50712128e-14]], dtype=float32)"
      ]
     },
     "execution_count": 7,
     "metadata": {},
     "output_type": "execute_result"
    }
   ],
   "source": [
    "predictions = model.predict(X_test)\n",
    "predictions"
   ]
  },
  {
   "cell_type": "markdown",
   "metadata": {},
   "source": [
    "##### EVALUATE TESTING SET"
   ]
  },
  {
   "cell_type": "code",
   "execution_count": 8,
   "metadata": {},
   "outputs": [
    {
     "name": "stdout",
     "output_type": "stream",
     "text": [
      "36/36 [==============================] - 0s 1ms/step\n",
      "\n",
      "Evaluate on test data \n",
      "\n",
      "(loss), (accuracy) :\n",
      "[0.000225788913667202, 1.0]\n"
     ]
    }
   ],
   "source": [
    "# Evaluate the model on the test data using `evaluate`\n",
    "results = model.evaluate(X_test, y_test)\n",
    "\n",
    "print('\\nEvaluate on test data \\n\\n(loss), (accuracy) :\\n{}'.format(results))"
   ]
  },
  {
   "cell_type": "markdown",
   "metadata": {},
   "source": [
    "##### PRINTING RESULTS"
   ]
  },
  {
   "cell_type": "code",
   "execution_count": 9,
   "metadata": {},
   "outputs": [
    {
     "name": "stdout",
     "output_type": "stream",
     "text": [
      "\n",
      "\n",
      "Printing results :\n",
      "\n",
      "     Prediction  Target   Hit\n",
      "0            2       2  True\n",
      "1            0       0  True\n",
      "2            2       2  True\n",
      "3            1       1  True\n",
      "4            1       1  True\n",
      "5            1       1  True\n",
      "6            2       2  True\n",
      "7            0       0  True\n",
      "8            1       1  True\n",
      "9            1       1  True\n",
      "10           0       0  True\n",
      "11           0       0  True\n",
      "12           2       2  True\n",
      "13           1       1  True\n",
      "14           2       2  True\n",
      "15           1       1  True\n",
      "16           1       1  True\n",
      "17           0       0  True\n",
      "18           0       0  True\n",
      "19           1       1  True\n",
      "20           2       2  True\n",
      "21           1       1  True\n",
      "22           0       0  True\n",
      "23           0       0  True\n",
      "24           2       2  True\n",
      "25           1       1  True\n",
      "26           2       2  True\n",
      "27           1       1  True\n",
      "28           0       0  True\n",
      "29           2       2  True\n",
      "30           1       1  True\n",
      "31           1       1  True\n",
      "32           0       0  True\n",
      "33           1       1  True\n",
      "34           0       0  True\n",
      "35           0       0  True\n"
     ]
    }
   ],
   "source": [
    "dataframe = pd.DataFrame(np.argmax(predictions,1), columns=['Prediction'])\n",
    "dataframe['Target'] = np.argmax(y_test, 1)\n",
    "dataframe['Hit'] = np.equal(dataframe.Target, dataframe.Prediction)\n",
    "print('\\n\\nPrinting results :\\n\\n', dataframe)"
   ]
  },
  {
   "cell_type": "code",
   "execution_count": 10,
   "metadata": {},
   "outputs": [
    {
     "name": "stdout",
     "output_type": "stream",
     "text": [
      "dict_keys(['loss', 'acc'])\n"
     ]
    }
   ],
   "source": [
    "print(history.history.keys())"
   ]
  },
  {
   "cell_type": "markdown",
   "metadata": {},
   "source": [
    "##### VISUALIZE THE RESULTS"
   ]
  },
  {
   "cell_type": "code",
   "execution_count": 11,
   "metadata": {},
   "outputs": [
    {
     "data": {
      "image/png": "[encoded data removed]",
      "text/plain": [
       "<Figure size 432x288 with 1 Axes>"
      ]
     },
     "metadata": {
      "needs_background": "light"
     },
     "output_type": "display_data"
    }
   ],
   "source": [
    "%matplotlib inline\n",
    "import matplotlib.pyplot as plt\n",
    "import matplotlib.patches as mpatches\n",
    "\n",
    "# set up legend\n",
    "blue_patch = mpatches.Patch(color='blue', label='Train Accuracy [Maximize]')\n",
    "plt.legend(handles=[blue_patch])\n",
    "\n",
    "#plot the data\n",
    "plt.plot(history.history['acc'], color='blue')\n",
    "plt.ylabel('score');"
   ]
  },
  {
   "cell_type": "markdown",
   "metadata": {},
   "source": [
    "##### VISUALIZE THE LOSS EVOLUTION"
   ]
  },
  {
   "cell_type": "code",
   "execution_count": 12,
   "metadata": {},
   "outputs": [
    {
     "data": {
      "image/png": "[encoded data removed]",
      "text/plain": [
       "<Figure size 432x288 with 1 Axes>"
      ]
     },
     "metadata": {
      "needs_background": "light"
     },
     "output_type": "display_data"
    }
   ],
   "source": [
    "# set up legend\n",
    "green_patch = mpatches.Patch(color='green', label='Avg Loss [Minimize]')\n",
    "plt.legend(handles=[green_patch])\n",
    "\n",
    "#plot the data\n",
    "plt.plot(history.history['loss'], color='green')\n",
    "\n",
    "plt.xlabel('epochs')\n",
    "plt.ylabel('score');"
   ]
  },
  {
   "cell_type": "markdown",
   "metadata": {},
   "source": [
    "##### SAVE MODEL FOR FUTURE RESTORE"
   ]
  },
  {
   "cell_type": "code",
   "execution_count": 13,
   "metadata": {},
   "outputs": [],
   "source": [
    "import os\n",
    "\n",
    "# create dir folders if they don't exits\n",
    "os.makedirs('output/keras_checkpoints', exist_ok=True)\n",
    "\n",
    "# save the trained model\n",
    "model.save('output/keras_checkpoints/mlp_wine_keras.h5')"
   ]
  },
  {
   "cell_type": "markdown",
   "metadata": {},
   "source": [
    "##### LOAD PRETRAINED MODEL"
   ]
  },
  {
   "cell_type": "code",
   "execution_count": 14,
   "metadata": {},
   "outputs": [],
   "source": [
    "model.load_weights('output/keras_checkpoints/mlp_wine_keras.h5')"
   ]
  },
  {
   "cell_type": "markdown",
   "metadata": {},
   "source": [
    "##### TESTING PRETRAINED MODEL"
   ]
  },
  {
   "cell_type": "code",
   "execution_count": 15,
   "metadata": {},
   "outputs": [
    {
     "name": "stdout",
     "output_type": "stream",
     "text": [
      "\n",
      "\n",
      "Printing results :\n",
      "\n",
      "     Prediction  Target   Hit\n",
      "0            2       2  True\n",
      "1            0       0  True\n",
      "2            2       2  True\n",
      "3            1       1  True\n",
      "4            1       1  True\n",
      "5            1       1  True\n",
      "6            2       2  True\n",
      "7            0       0  True\n",
      "8            1       1  True\n",
      "9            1       1  True\n",
      "10           0       0  True\n",
      "11           0       0  True\n",
      "12           2       2  True\n",
      "13           1       1  True\n",
      "14           2       2  True\n",
      "15           1       1  True\n",
      "16           1       1  True\n",
      "17           0       0  True\n",
      "18           0       0  True\n",
      "19           1       1  True\n",
      "20           2       2  True\n",
      "21           1       1  True\n",
      "22           0       0  True\n",
      "23           0       0  True\n",
      "24           2       2  True\n",
      "25           1       1  True\n",
      "26           2       2  True\n",
      "27           1       1  True\n",
      "28           0       0  True\n",
      "29           2       2  True\n",
      "30           1       1  True\n",
      "31           1       1  True\n",
      "32           0       0  True\n",
      "33           1       1  True\n",
      "34           0       0  True\n",
      "35           0       0  True\n"
     ]
    }
   ],
   "source": [
    "dataframe = pd.DataFrame(np.argmax(predictions,1), columns=['Prediction'])\n",
    "dataframe['Target'] = np.argmax(y_test, 1)\n",
    "dataframe['Hit'] = np.equal(dataframe.Target, dataframe.Prediction)\n",
    "print('\\n\\nPrinting results :\\n\\n', dataframe)"
   ]
  },
  {
   "cell_type": "code",
   "execution_count": null,
   "metadata": {},
   "outputs": [],
   "source": []
  }
 ],
 "metadata": {
  "kernelspec": {
   "display_name": "Python 3",
   "language": "python",
   "name": "python3"
  },
  "language_info": {
   "codemirror_mode": {
    "name": "ipython",
    "version": 3
   },
   "file_extension": ".py",
   "mimetype": "text/x-python",
   "name": "python",
   "nbconvert_exporter": "python",
   "pygments_lexer": "ipython3",
   "version": "3.5.6"
  }
 },
 "nbformat": 4,
 "nbformat_minor": 2
}

{
 "cells": [
  {
   "cell_type": "markdown",
   "metadata": {},
   "source": [
    "# Wine Quality Classifier"
   ]
  },
  {
   "cell_type": "markdown",
   "metadata": {},
   "source": [
    "<p><b>Status: <span style=color:orange;>In process</span></b></p>"
   ]
  },
  {
   "cell_type": "markdown",
   "metadata": {},
   "source": [
    "##### LOAD THE FEATURE DATA"
   ]
  },
  {
   "cell_type": "code",
   "execution_count": 1,
   "metadata": {},
   "outputs": [
    {
     "name": "stdout",
     "output_type": "stream",
     "text": [
      "Feature data, shape:\n",
      "X: (178, 13)\n"
     ]
    },
    {
     "data": {
      "text/html": [
       "<div>\n",
       "<style scoped>\n",
       "    .dataframe tbody tr th:only-of-type {\n",
       "        vertical-align: middle;\n",
       "    }\n",
       "\n",
       "    .dataframe tbody tr th {\n",
       "        vertical-align: top;\n",
       "    }\n",
       "\n",
       "    .dataframe thead th {\n",
       "        text-align: right;\n",
       "    }\n",
       "</style>\n",
       "<table border=\"1\" class=\"dataframe\">\n",
       "  <thead>\n",
       "    <tr style=\"text-align: right;\">\n",
       "      <th></th>\n",
       "      <th>Alcohol</th>\n",
       "      <th>Malic_acid</th>\n",
       "      <th>Ash</th>\n",
       "      <th>Alcalinity</th>\n",
       "      <th>Magnesium</th>\n",
       "      <th>Total_phenols</th>\n",
       "      <th>Flavanoids</th>\n",
       "      <th>Nonflavanoid_phenols</th>\n",
       "      <th>Proanthocyanins</th>\n",
       "      <th>Color_intensity</th>\n",
       "      <th>Hue</th>\n",
       "      <th>OD280_OD315</th>\n",
       "      <th>Proline</th>\n",
       "    </tr>\n",
       "  </thead>\n",
       "  <tbody>\n",
       "    <tr>\n",
       "      <th>0</th>\n",
       "      <td>1.518613</td>\n",
       "      <td>-0.562250</td>\n",
       "      <td>0.232053</td>\n",
       "      <td>-1.169593</td>\n",
       "      <td>1.913905</td>\n",
       "      <td>0.808997</td>\n",
       "      <td>1.034819</td>\n",
       "      <td>-0.659563</td>\n",
       "      <td>1.224884</td>\n",
       "      <td>0.251717</td>\n",
       "      <td>0.362177</td>\n",
       "      <td>1.847920</td>\n",
       "      <td>1.013009</td>\n",
       "    </tr>\n",
       "    <tr>\n",
       "      <th>1</th>\n",
       "      <td>0.246290</td>\n",
       "      <td>-0.499413</td>\n",
       "      <td>-0.827996</td>\n",
       "      <td>-2.490847</td>\n",
       "      <td>0.018145</td>\n",
       "      <td>0.568648</td>\n",
       "      <td>0.733629</td>\n",
       "      <td>-0.820719</td>\n",
       "      <td>-0.544721</td>\n",
       "      <td>-0.293321</td>\n",
       "      <td>0.406051</td>\n",
       "      <td>1.113449</td>\n",
       "      <td>0.965242</td>\n",
       "    </tr>\n",
       "    <tr>\n",
       "      <th>2</th>\n",
       "      <td>0.196879</td>\n",
       "      <td>0.021231</td>\n",
       "      <td>1.109334</td>\n",
       "      <td>-0.268738</td>\n",
       "      <td>0.088358</td>\n",
       "      <td>0.808997</td>\n",
       "      <td>1.215533</td>\n",
       "      <td>-0.498407</td>\n",
       "      <td>2.135968</td>\n",
       "      <td>0.269020</td>\n",
       "      <td>0.318304</td>\n",
       "      <td>0.788587</td>\n",
       "      <td>1.395148</td>\n",
       "    </tr>\n",
       "    <tr>\n",
       "      <th>3</th>\n",
       "      <td>1.691550</td>\n",
       "      <td>-0.346811</td>\n",
       "      <td>0.487926</td>\n",
       "      <td>-0.809251</td>\n",
       "      <td>0.930918</td>\n",
       "      <td>2.491446</td>\n",
       "      <td>1.466525</td>\n",
       "      <td>-0.981875</td>\n",
       "      <td>1.032155</td>\n",
       "      <td>1.186068</td>\n",
       "      <td>-0.427544</td>\n",
       "      <td>1.184071</td>\n",
       "      <td>2.334574</td>\n",
       "    </tr>\n",
       "    <tr>\n",
       "      <th>4</th>\n",
       "      <td>0.295700</td>\n",
       "      <td>0.227694</td>\n",
       "      <td>1.840403</td>\n",
       "      <td>0.451946</td>\n",
       "      <td>1.281985</td>\n",
       "      <td>0.808997</td>\n",
       "      <td>0.663351</td>\n",
       "      <td>0.226796</td>\n",
       "      <td>0.401404</td>\n",
       "      <td>-0.319276</td>\n",
       "      <td>0.362177</td>\n",
       "      <td>0.449601</td>\n",
       "      <td>-0.037874</td>\n",
       "    </tr>\n",
       "  </tbody>\n",
       "</table>\n",
       "</div>"
      ],
      "text/plain": [
       "    Alcohol  Malic_acid       Ash  Alcalinity  Magnesium  Total_phenols  \\\n",
       "0  1.518613   -0.562250  0.232053   -1.169593   1.913905       0.808997   \n",
       "1  0.246290   -0.499413 -0.827996   -2.490847   0.018145       0.568648   \n",
       "2  0.196879    0.021231  1.109334   -0.268738   0.088358       0.808997   \n",
       "3  1.691550   -0.346811  0.487926   -0.809251   0.930918       2.491446   \n",
       "4  0.295700    0.227694  1.840403    0.451946   1.281985       0.808997   \n",
       "\n",
       "   Flavanoids  Nonflavanoid_phenols  Proanthocyanins  Color_intensity  \\\n",
       "0    1.034819             -0.659563         1.224884         0.251717   \n",
       "1    0.733629             -0.820719        -0.544721        -0.293321   \n",
       "2    1.215533             -0.498407         2.135968         0.269020   \n",
       "3    1.466525             -0.981875         1.032155         1.186068   \n",
       "4    0.663351              0.226796         0.401404        -0.319276   \n",
       "\n",
       "        Hue  OD280_OD315   Proline  \n",
       "0  0.362177     1.847920  1.013009  \n",
       "1  0.406051     1.113449  0.965242  \n",
       "2  0.318304     0.788587  1.395148  \n",
       "3 -0.427544     1.184071  2.334574  \n",
       "4  0.362177     0.449601 -0.037874  "
      ]
     },
     "execution_count": 1,
     "metadata": {},
     "output_type": "execute_result"
    }
   ],
   "source": [
    "import pandas as pd\n",
    "import numpy as np\n",
    "\n",
    "X = pd.read_csv('../../../data/preprocessed_data/X.csv', sep=',')\n",
    "\n",
    "print ('Feature data, shape:\\nX: {}'.format(X.shape))\n",
    "X.head()"
   ]
  },
  {
   "cell_type": "markdown",
   "metadata": {},
   "source": [
    "##### DATA OVERVIEW"
   ]
  },
  {
   "cell_type": "code",
   "execution_count": 2,
   "metadata": {},
   "outputs": [
    {
     "name": "stdout",
     "output_type": "stream",
     "text": [
      "Target data, shape:\n",
      "y: (178, 13)\n"
     ]
    },
    {
     "data": {
      "text/html": [
       "<div>\n",
       "<style scoped>\n",
       "    .dataframe tbody tr th:only-of-type {\n",
       "        vertical-align: middle;\n",
       "    }\n",
       "\n",
       "    .dataframe tbody tr th {\n",
       "        vertical-align: top;\n",
       "    }\n",
       "\n",
       "    .dataframe thead th {\n",
       "        text-align: right;\n",
       "    }\n",
       "</style>\n",
       "<table border=\"1\" class=\"dataframe\">\n",
       "  <thead>\n",
       "    <tr style=\"text-align: right;\">\n",
       "      <th></th>\n",
       "      <th>1</th>\n",
       "      <th>2</th>\n",
       "      <th>3</th>\n",
       "    </tr>\n",
       "  </thead>\n",
       "  <tbody>\n",
       "    <tr>\n",
       "      <th>0</th>\n",
       "      <td>1</td>\n",
       "      <td>0</td>\n",
       "      <td>0</td>\n",
       "    </tr>\n",
       "    <tr>\n",
       "      <th>1</th>\n",
       "      <td>1</td>\n",
       "      <td>0</td>\n",
       "      <td>0</td>\n",
       "    </tr>\n",
       "    <tr>\n",
       "      <th>2</th>\n",
       "      <td>1</td>\n",
       "      <td>0</td>\n",
       "      <td>0</td>\n",
       "    </tr>\n",
       "    <tr>\n",
       "      <th>3</th>\n",
       "      <td>1</td>\n",
       "      <td>0</td>\n",
       "      <td>0</td>\n",
       "    </tr>\n",
       "    <tr>\n",
       "      <th>4</th>\n",
       "      <td>1</td>\n",
       "      <td>0</td>\n",
       "      <td>0</td>\n",
       "    </tr>\n",
       "  </tbody>\n",
       "</table>\n",
       "</div>"
      ],
      "text/plain": [
       "   1  2  3\n",
       "0  1  0  0\n",
       "1  1  0  0\n",
       "2  1  0  0\n",
       "3  1  0  0\n",
       "4  1  0  0"
      ]
     },
     "execution_count": 2,
     "metadata": {},
     "output_type": "execute_result"
    }
   ],
   "source": [
    "y = pd.read_csv('../../../data/preprocessed_data/y.csv', sep=',')\n",
    "\n",
    "print ('Target data, shape:\\ny: {}'.format(X.shape))\n",
    "y.head()"
   ]
  },
  {
   "cell_type": "markdown",
   "metadata": {},
   "source": [
    "##### SPLIT THE DATA"
   ]
  },
  {
   "cell_type": "code",
   "execution_count": 3,
   "metadata": {},
   "outputs": [
    {
     "name": "stdout",
     "output_type": "stream",
     "text": [
      "Data shapes:\n",
      "\n",
      "X_train : (142, 13)\n",
      "y_train : (142, 3)\n",
      "\n",
      "X_test : (36, 13)\n",
      "y_test : (36, 3)\n"
     ]
    }
   ],
   "source": [
    "from sklearn.model_selection import train_test_split\n",
    "\n",
    "# set the seed for reproducibility\n",
    "np.random.seed(127)\n",
    "\n",
    "# split the dataset into 2 training and 2 testing sets\n",
    "X_train, X_test, y_train, y_test = train_test_split(X.values, y.values, test_size=0.2, random_state=13)\n",
    "\n",
    "print('Data shapes:\\n')\n",
    "print('X_train : {}\\ny_train : {}\\n\\nX_test : {}\\ny_test : {}'.format(X_train.shape,\n",
    "                                                                      y_train.shape,\n",
    "                                                                      X_test.shape,\n",
    "                                                                      y_test.shape))"
   ]
  },
  {
   "cell_type": "markdown",
   "metadata": {},
   "source": [
    "##### DEFINE NETWORK PARAMETERS"
   ]
  },
  {
   "cell_type": "code",
   "execution_count": 4,
   "metadata": {},
   "outputs": [],
   "source": [
    "# define number of attributes\n",
    "n_features = X_train.shape[1]    \n",
    "n_classes = y_train.shape[1]\n",
    "\n",
    "# count number of samples in each set of data\n",
    "n_train = X_train.shape[0]\n",
    "n_test = X_test.shape[0]\n",
    "\n",
    "# define amount of neurons\n",
    "n_layer_in = n_features  # 11 neurons in input layer\n",
    "n_layer_h1 = 50          # first   hidden layer\n",
    "n_layer_h2 = 50          # second  hidden layer\n",
    "n_layer_out = n_classes  # 7 neurons in input layer\n",
    "\n",
    "sigma_init = 0.01   # For randomized initialization"
   ]
  },
  {
   "cell_type": "markdown",
   "metadata": {},
   "source": [
    "##### MODEL ARCHITECTURE"
   ]
  },
  {
   "cell_type": "code",
   "execution_count": 5,
   "metadata": {},
   "outputs": [
    {
     "name": "stderr",
     "output_type": "stream",
     "text": [
      "Using TensorFlow backend.\n"
     ]
    },
    {
     "name": "stdout",
     "output_type": "stream",
     "text": [
      "_________________________________________________________________\n",
      "Layer (type)                 Output Shape              Param #   \n",
      "=================================================================\n",
      "dense_1 (Dense)              (None, 50)                700       \n",
      "_________________________________________________________________\n",
      "dense_2 (Dense)              (None, 50)                2550      \n",
      "_________________________________________________________________\n",
      "dense_3 (Dense)              (None, 3)                 153       \n",
      "=================================================================\n",
      "Total params: 3,403\n",
      "Trainable params: 3,403\n",
      "Non-trainable params: 0\n",
      "_________________________________________________________________\n"
     ]
    }
   ],
   "source": [
    "from keras.models import Sequential\n",
    "from keras.layers import Dense\n",
    "\n",
    "# fix random seed for reproducibility\n",
    "np.random.seed(42)\n",
    "\n",
    "# define model architecture\n",
    "model = Sequential()\n",
    "model.add(Dense(n_layer_h1, activation='relu', input_shape=(n_features,)))\n",
    "model.add(Dense(n_layer_h2, activation='relu'))\n",
    "model.add(Dense(n_classes, activation='softmax'))\n",
    "\n",
    "# add model's configuration\n",
    "model.compile(optimizer='rmsprop', loss='categorical_crossentropy', metrics=['accuracy'])\n",
    "\n",
    "# show model architecture\n",
    "model.summary()"
   ]
  },
  {
   "cell_type": "markdown",
   "metadata": {},
   "source": [
    "##### EXECUTE THE MODEL"
   ]
  },
  {
   "cell_type": "code",
   "execution_count": 6,
   "metadata": {
    "scrolled": false
   },
   "outputs": [
    {
     "name": "stdout",
     "output_type": "stream",
     "text": [
      "Epoch 1/100\n",
      "142/142 [==============================] - 0s 866us/step - loss: 0.9972 - acc: 0.4930\n",
      "Epoch 2/100\n",
      "142/142 [==============================] - 0s 29us/step - loss: 0.7102 - acc: 0.8873\n",
      "Epoch 3/100\n",
      "142/142 [==============================] - 0s 0us/step - loss: 0.5539 - acc: 0.9366\n",
      "Epoch 4/100\n",
      "142/142 [==============================] - 0s 0us/step - loss: 0.4459 - acc: 0.9507\n",
      "Epoch 5/100\n",
      "142/142 [==============================] - 0s 0us/step - loss: 0.3625 - acc: 0.9577\n",
      "Epoch 6/100\n",
      "142/142 [==============================] - 0s 110us/step - loss: 0.2950 - acc: 0.9718\n",
      "Epoch 7/100\n",
      "142/142 [==============================] - 0s 10us/step - loss: 0.2438 - acc: 0.9718\n",
      "Epoch 8/100\n",
      "142/142 [==============================] - 0s 0us/step - loss: 0.2029 - acc: 0.9789\n",
      "Epoch 9/100\n",
      "142/142 [==============================] - 0s 0us/step - loss: 0.1686 - acc: 0.9789\n",
      "Epoch 10/100\n",
      "142/142 [==============================] - 0s 0us/step - loss: 0.1412 - acc: 0.9859\n",
      "Epoch 11/100\n",
      "142/142 [==============================] - 0s 0us/step - loss: 0.1194 - acc: 0.9859\n",
      "Epoch 12/100\n",
      "142/142 [==============================] - 0s 0us/step - loss: 0.1015 - acc: 0.9859\n",
      "Epoch 13/100\n",
      "142/142 [==============================] - 0s 0us/step - loss: 0.0867 - acc: 0.9859\n",
      "Epoch 14/100\n",
      "142/142 [==============================] - 0s 110us/step - loss: 0.0753 - acc: 0.9859\n",
      "Epoch 15/100\n",
      "142/142 [==============================] - 0s 0us/step - loss: 0.0647 - acc: 0.9930\n",
      "Epoch 16/100\n",
      "142/142 [==============================] - 0s 0us/step - loss: 0.0553 - acc: 0.9859\n",
      "Epoch 17/100\n",
      "142/142 [==============================] - 0s 110us/step - loss: 0.0478 - acc: 0.9859\n",
      "Epoch 18/100\n",
      "142/142 [==============================] - 0s 41us/step - loss: 0.0417 - acc: 0.9930\n",
      "Epoch 19/100\n",
      "142/142 [==============================] - 0s 28us/step - loss: 0.0357 - acc: 0.9930\n",
      "Epoch 20/100\n",
      "142/142 [==============================] - 0s 28us/step - loss: 0.0316 - acc: 0.9930\n",
      "Epoch 21/100\n",
      "142/142 [==============================] - 0s 21us/step - loss: 0.0268 - acc: 1.0000\n",
      "Epoch 22/100\n",
      "142/142 [==============================] - 0s 21us/step - loss: 0.0234 - acc: 1.0000\n",
      "Epoch 23/100\n",
      "142/142 [==============================] - 0s 28us/step - loss: 0.0200 - acc: 1.0000\n",
      "Epoch 24/100\n",
      "142/142 [==============================] - 0s 21us/step - loss: 0.0176 - acc: 1.0000\n",
      "Epoch 25/100\n",
      "142/142 [==============================] - 0s 21us/step - loss: 0.0150 - acc: 1.0000\n",
      "Epoch 26/100\n",
      "142/142 [==============================] - 0s 28us/step - loss: 0.0131 - acc: 1.0000\n",
      "Epoch 27/100\n",
      "142/142 [==============================] - 0s 21us/step - loss: 0.0113 - acc: 1.0000\n",
      "Epoch 28/100\n",
      "142/142 [==============================] - 0s 28us/step - loss: 0.0098 - acc: 1.0000\n",
      "Epoch 29/100\n",
      "142/142 [==============================] - 0s 28us/step - loss: 0.0085 - acc: 1.0000\n",
      "Epoch 30/100\n",
      "142/142 [==============================] - 0s 21us/step - loss: 0.0074 - acc: 1.0000\n",
      "Epoch 31/100\n",
      "142/142 [==============================] - 0s 21us/step - loss: 0.0063 - acc: 1.0000\n",
      "Epoch 32/100\n",
      "142/142 [==============================] - 0s 21us/step - loss: 0.0054 - acc: 1.0000\n",
      "Epoch 33/100\n",
      "142/142 [==============================] - 0s 21us/step - loss: 0.0047 - acc: 1.0000\n",
      "Epoch 34/100\n",
      "142/142 [==============================] - 0s 21us/step - loss: 0.0043 - acc: 1.0000\n",
      "Epoch 35/100\n",
      "142/142 [==============================] - 0s 28us/step - loss: 0.0035 - acc: 1.0000\n",
      "Epoch 36/100\n",
      "142/142 [==============================] - 0s 21us/step - loss: 0.0030 - acc: 1.0000\n",
      "Epoch 37/100\n",
      "142/142 [==============================] - 0s 28us/step - loss: 0.0026 - acc: 1.0000\n",
      "Epoch 38/100\n",
      "142/142 [==============================] - 0s 28us/step - loss: 0.0022 - acc: 1.0000\n",
      "Epoch 39/100\n",
      "142/142 [==============================] - 0s 28us/step - loss: 0.0019 - acc: 1.0000\n",
      "Epoch 40/100\n",
      "142/142 [==============================] - 0s 21us/step - loss: 0.0016 - acc: 1.0000\n",
      "Epoch 41/100\n",
      "142/142 [==============================] - 0s 21us/step - loss: 0.0014 - acc: 1.0000\n",
      "Epoch 42/100\n",
      "142/142 [==============================] - 0s 21us/step - loss: 0.0012 - acc: 1.0000\n",
      "Epoch 43/100\n",
      "142/142 [==============================] - 0s 21us/step - loss: 0.0011 - acc: 1.0000\n",
      "Epoch 44/100\n",
      "142/142 [==============================] - 0s 32us/step - loss: 8.7914e-04 - acc: 1.0000\n",
      "Epoch 45/100\n",
      "142/142 [==============================] - 0s 28us/step - loss: 7.5560e-04 - acc: 1.0000\n",
      "Epoch 46/100\n",
      "142/142 [==============================] - 0s 21us/step - loss: 6.2691e-04 - acc: 1.0000\n",
      "Epoch 47/100\n",
      "142/142 [==============================] - 0s 21us/step - loss: 5.3895e-04 - acc: 1.0000\n",
      "Epoch 48/100\n",
      "142/142 [==============================] - 0s 21us/step - loss: 4.5488e-04 - acc: 1.0000\n",
      "Epoch 49/100\n",
      "142/142 [==============================] - 0s 21us/step - loss: 3.9250e-04 - acc: 1.0000\n",
      "Epoch 50/100\n",
      "142/142 [==============================] - 0s 21us/step - loss: 3.2153e-04 - acc: 1.0000\n",
      "Epoch 51/100\n",
      "142/142 [==============================] - 0s 28us/step - loss: 2.6708e-04 - acc: 1.0000\n",
      "Epoch 52/100\n",
      "142/142 [==============================] - 0s 28us/step - loss: 2.2269e-04 - acc: 1.0000\n",
      "Epoch 53/100\n",
      "142/142 [==============================] - 0s 21us/step - loss: 1.9372e-04 - acc: 1.0000\n",
      "Epoch 54/100\n",
      "142/142 [==============================] - 0s 21us/step - loss: 1.5865e-04 - acc: 1.0000\n",
      "Epoch 55/100\n",
      "142/142 [==============================] - 0s 21us/step - loss: 1.3474e-04 - acc: 1.0000\n",
      "Epoch 56/100\n",
      "142/142 [==============================] - 0s 21us/step - loss: 1.0803e-04 - acc: 1.0000\n",
      "Epoch 57/100\n",
      "142/142 [==============================] - 0s 0us/step - loss: 8.4660e-05 - acc: 1.0000\n",
      "Epoch 58/100\n",
      "142/142 [==============================] - 0s 0us/step - loss: 7.2186e-05 - acc: 1.0000\n",
      "Epoch 59/100\n",
      "142/142 [==============================] - 0s 0us/step - loss: 6.5672e-05 - acc: 1.0000\n",
      "Epoch 60/100\n",
      "142/142 [==============================] - 0s 110us/step - loss: 5.4664e-05 - acc: 1.0000\n",
      "Epoch 61/100\n",
      "142/142 [==============================] - 0s 0us/step - loss: 4.5826e-05 - acc: 1.0000\n",
      "Epoch 62/100\n",
      "142/142 [==============================] - 0s 0us/step - loss: 3.7447e-05 - acc: 1.0000\n",
      "Epoch 63/100\n",
      "142/142 [==============================] - 0s 0us/step - loss: 3.0979e-05 - acc: 1.0000\n",
      "Epoch 64/100\n",
      "142/142 [==============================] - 0s 110us/step - loss: 2.4394e-05 - acc: 1.0000\n",
      "Epoch 65/100\n",
      "142/142 [==============================] - 0s 0us/step - loss: 2.0837e-05 - acc: 1.0000\n",
      "Epoch 66/100\n",
      "142/142 [==============================] - 0s 0us/step - loss: 1.6444e-05 - acc: 1.0000\n",
      "Epoch 67/100\n",
      "142/142 [==============================] - 0s 110us/step - loss: 1.3628e-05 - acc: 1.0000\n",
      "Epoch 68/100\n",
      "142/142 [==============================] - 0s 0us/step - loss: 1.1489e-05 - acc: 1.0000\n",
      "Epoch 69/100\n",
      "142/142 [==============================] - 0s 0us/step - loss: 9.2388e-06 - acc: 1.0000\n",
      "Epoch 70/100\n",
      "142/142 [==============================] - 0s 0us/step - loss: 7.8353e-06 - acc: 1.0000\n",
      "Epoch 71/100\n",
      "142/142 [==============================] - 0s 28us/step - loss: 6.3151e-06 - acc: 1.0000\n",
      "Epoch 72/100\n",
      "142/142 [==============================] - 0s 28us/step - loss: 5.7522e-06 - acc: 1.0000\n",
      "Epoch 73/100\n",
      "142/142 [==============================] - 0s 21us/step - loss: 4.6855e-06 - acc: 1.0000\n",
      "Epoch 74/100\n",
      "142/142 [==============================] - 0s 21us/step - loss: 3.9249e-06 - acc: 1.0000\n",
      "Epoch 75/100\n",
      "142/142 [==============================] - 0s 21us/step - loss: 3.0748e-06 - acc: 1.0000\n",
      "Epoch 76/100\n",
      "142/142 [==============================] - 0s 21us/step - loss: 2.5429e-06 - acc: 1.0000\n",
      "Epoch 77/100\n",
      "142/142 [==============================] - 0s 28us/step - loss: 2.1231e-06 - acc: 1.0000\n",
      "Epoch 78/100\n",
      "142/142 [==============================] - 0s 28us/step - loss: 1.9057e-06 - acc: 1.0000\n",
      "Epoch 79/100\n",
      "142/142 [==============================] - 0s 21us/step - loss: 1.4859e-06 - acc: 1.0000\n",
      "Epoch 80/100\n",
      "142/142 [==============================] - 0s 0us/step - loss: 1.2458e-06 - acc: 1.0000\n",
      "Epoch 81/100\n",
      "142/142 [==============================] - 0s 0us/step - loss: 1.0171e-06 - acc: 1.0000\n",
      "Epoch 82/100\n",
      "142/142 [==============================] - 0s 83us/step - loss: 8.7771e-07 - acc: 1.0000\n",
      "Epoch 83/100\n",
      "142/142 [==============================] - 0s 27us/step - loss: 7.4674e-07 - acc: 1.0000\n",
      "Epoch 84/100\n",
      "142/142 [==============================] - 0s 0us/step - loss: 6.4474e-07 - acc: 1.0000\n",
      "Epoch 85/100\n",
      "142/142 [==============================] - 0s 0us/step - loss: 5.2805e-07 - acc: 1.0000\n",
      "Epoch 86/100\n",
      "142/142 [==============================] - 0s 0us/step - loss: 4.7642e-07 - acc: 1.0000\n",
      "Epoch 87/100\n",
      "142/142 [==============================] - 0s 115us/step - loss: 4.4116e-07 - acc: 1.0000\n",
      "Epoch 88/100\n",
      "142/142 [==============================] - 0s 28us/step - loss: 3.8072e-07 - acc: 1.0000\n",
      "Epoch 89/100\n",
      "142/142 [==============================] - 0s 28us/step - loss: 3.1523e-07 - acc: 1.0000\n",
      "Epoch 90/100\n",
      "142/142 [==============================] - 0s 21us/step - loss: 2.8123e-07 - acc: 1.0000\n",
      "Epoch 91/100\n",
      "142/142 [==============================] - 0s 21us/step - loss: 2.6444e-07 - acc: 1.0000\n",
      "Epoch 92/100\n",
      "142/142 [==============================] - 0s 21us/step - loss: 2.3800e-07 - acc: 1.0000\n",
      "Epoch 93/100\n",
      "142/142 [==============================] - 0s 21us/step - loss: 2.1701e-07 - acc: 1.0000\n",
      "Epoch 94/100\n",
      "142/142 [==============================] - 0s 28us/step - loss: 2.0400e-07 - acc: 1.0000\n",
      "Epoch 95/100\n",
      "142/142 [==============================] - 0s 21us/step - loss: 1.9728e-07 - acc: 1.0000\n",
      "Epoch 96/100\n",
      "142/142 [==============================] - 0s 7us/step - loss: 1.8553e-07 - acc: 1.0000\n",
      "Epoch 97/100\n",
      "142/142 [==============================] - 0s 0us/step - loss: 1.7672e-07 - acc: 1.0000\n",
      "Epoch 98/100\n",
      "142/142 [==============================] - 0s 0us/step - loss: 1.6496e-07 - acc: 1.0000\n",
      "Epoch 99/100\n",
      "142/142 [==============================] - 0s 0us/step - loss: 1.6034e-07 - acc: 1.0000\n",
      "Epoch 100/100\n",
      "142/142 [==============================] - 0s 110us/step - loss: 1.5993e-07 - acc: 1.0000\n"
     ]
    },
    {
     "data": {
      "text/plain": [
       "<keras.callbacks.History at 0x143011d53c8>"
      ]
     },
     "execution_count": 6,
     "metadata": {},
     "output_type": "execute_result"
    }
   ],
   "source": [
    "from tensorflow.keras.callbacks import History \n",
    "\n",
    "# add history function to \n",
    "history = History()\n",
    "model.fit(X_train, y_train, epochs=100, callbacks=[history])"
   ]
  },
  {
   "cell_type": "markdown",
   "metadata": {},
   "source": [
    "##### PRINTING RAW OUTPUT"
   ]
  },
  {
   "cell_type": "code",
   "execution_count": 7,
   "metadata": {},
   "outputs": [
    {
     "data": {
      "text/plain": [
       "array([[3.08120085e-09, 1.84788789e-07, 9.99999762e-01],\n",
       "       [1.00000000e+00, 2.62227338e-17, 4.91187503e-15],\n",
       "       [5.32181829e-13, 3.67038756e-14, 1.00000000e+00],\n",
       "       [8.23869510e-13, 1.00000000e+00, 3.99386131e-14],\n",
       "       [7.92658647e-12, 1.00000000e+00, 7.04708712e-14],\n",
       "       [9.83377392e-17, 1.00000000e+00, 2.77192409e-17],\n",
       "       [2.65791034e-09, 5.23712074e-10, 1.00000000e+00],\n",
       "       [9.99999881e-01, 7.62145547e-08, 8.66591576e-10],\n",
       "       [1.94846483e-15, 1.00000000e+00, 1.13076061e-15],\n",
       "       [1.32947090e-14, 1.00000000e+00, 3.68607266e-15],\n",
       "       [1.00000000e+00, 8.86761903e-17, 1.50703594e-15],\n",
       "       [1.00000000e+00, 3.78933258e-18, 5.75650415e-18],\n",
       "       [1.53389725e-13, 2.88507879e-13, 1.00000000e+00],\n",
       "       [2.29337328e-13, 1.00000000e+00, 6.83811477e-15],\n",
       "       [7.54489570e-13, 9.00345519e-16, 1.00000000e+00],\n",
       "       [3.12277670e-09, 1.00000000e+00, 1.05835427e-11],\n",
       "       [1.63788444e-13, 1.00000000e+00, 4.47859794e-14],\n",
       "       [1.00000000e+00, 4.54888270e-14, 5.20248861e-12],\n",
       "       [1.00000000e+00, 1.79431794e-08, 1.06350276e-10],\n",
       "       [1.43175770e-03, 9.97346640e-01, 1.22163538e-03],\n",
       "       [1.00495463e-05, 5.33427158e-03, 9.94655728e-01],\n",
       "       [1.13116988e-16, 1.00000000e+00, 2.77647474e-17],\n",
       "       [1.00000000e+00, 3.34436009e-15, 1.08598729e-14],\n",
       "       [1.00000000e+00, 2.34507075e-12, 1.51932252e-11],\n",
       "       [9.34614539e-12, 3.62872341e-12, 1.00000000e+00],\n",
       "       [1.46589227e-10, 1.00000000e+00, 1.71372801e-12],\n",
       "       [5.23430188e-11, 1.40459033e-09, 1.00000000e+00],\n",
       "       [1.44961972e-12, 1.00000000e+00, 1.26104084e-15],\n",
       "       [1.00000000e+00, 9.14821401e-14, 1.39997985e-12],\n",
       "       [3.76628253e-14, 9.59410992e-17, 1.00000000e+00],\n",
       "       [1.07021914e-15, 1.00000000e+00, 1.33558196e-16],\n",
       "       [8.26795501e-14, 1.00000000e+00, 3.08139215e-15],\n",
       "       [1.00000000e+00, 4.06732850e-19, 1.59670899e-16],\n",
       "       [1.66654889e-20, 1.00000000e+00, 9.82066547e-22],\n",
       "       [1.00000000e+00, 4.45584236e-09, 1.88209212e-10],\n",
       "       [1.00000000e+00, 6.90221780e-15, 3.53738645e-14]], dtype=float32)"
      ]
     },
     "execution_count": 7,
     "metadata": {},
     "output_type": "execute_result"
    }
   ],
   "source": [
    "predictions = model.predict(X_test)\n",
    "predictions"
   ]
  },
  {
   "cell_type": "markdown",
   "metadata": {},
   "source": [
    "##### EVALUATE TESTING SET"
   ]
  },
  {
   "cell_type": "code",
   "execution_count": 8,
   "metadata": {},
   "outputs": [
    {
     "name": "stdout",
     "output_type": "stream",
     "text": [
      "36/36 [==============================] - 0s 1ms/step\n",
      "\n",
      "Evaluate on test data \n",
      "\n",
      "(loss), (accuracy) :\n",
      "[0.00022276674604250325, 1.0]\n"
     ]
    }
   ],
   "source": [
    "# Evaluate the model on the test data using `evaluate`\n",
    "results = model.evaluate(X_test, y_test)\n",
    "\n",
    "print('\\nEvaluate on test data \\n\\n(loss), (accuracy) :\\n{}'.format(results))"
   ]
  },
  {
   "cell_type": "markdown",
   "metadata": {},
   "source": [
    "##### PRINTING RESULTS"
   ]
  },
  {
   "cell_type": "code",
   "execution_count": 9,
   "metadata": {},
   "outputs": [
    {
     "name": "stdout",
     "output_type": "stream",
     "text": [
      "\n",
      "\n",
      "Printing results :\n",
      "\n",
      "     Prediction  Target   Hit\n",
      "0            2       2  True\n",
      "1            0       0  True\n",
      "2            2       2  True\n",
      "3            1       1  True\n",
      "4            1       1  True\n",
      "5            1       1  True\n",
      "6            2       2  True\n",
      "7            0       0  True\n",
      "8            1       1  True\n",
      "9            1       1  True\n",
      "10           0       0  True\n",
      "11           0       0  True\n",
      "12           2       2  True\n",
      "13           1       1  True\n",
      "14           2       2  True\n",
      "15           1       1  True\n",
      "16           1       1  True\n",
      "17           0       0  True\n",
      "18           0       0  True\n",
      "19           1       1  True\n",
      "20           2       2  True\n",
      "21           1       1  True\n",
      "22           0       0  True\n",
      "23           0       0  True\n",
      "24           2       2  True\n",
      "25           1       1  True\n",
      "26           2       2  True\n",
      "27           1       1  True\n",
      "28           0       0  True\n",
      "29           2       2  True\n",
      "30           1       1  True\n",
      "31           1       1  True\n",
      "32           0       0  True\n",
      "33           1       1  True\n",
      "34           0       0  True\n",
      "35           0       0  True\n"
     ]
    }
   ],
   "source": [
    "dataframe = pd.DataFrame(np.argmax(predictions,1), columns=['Prediction'])\n",
    "dataframe['Target'] = np.argmax(y_test, 1)\n",
    "dataframe['Hit'] = np.equal(dataframe.Target, dataframe.Prediction)\n",
    "print('\\n\\nPrinting results :\\n\\n', dataframe)"
   ]
  },
  {
   "cell_type": "code",
   "execution_count": 10,
   "metadata": {},
   "outputs": [
    {
     "name": "stdout",
     "output_type": "stream",
     "text": [
      "dict_keys(['loss', 'acc'])\n"
     ]
    }
   ],
   "source": [
    "print(history.history.keys())"
   ]
  },
  {
   "cell_type": "markdown",
   "metadata": {},
   "source": [
    "##### VISUALIZE THE RESULTS"
   ]
  },
  {
   "cell_type": "code",
   "execution_count": 11,
   "metadata": {},
   "outputs": [
    {
     "data": {
      "image/png": "[encoded data removed]",
      "text/plain": [
       "<Figure size 432x288 with 1 Axes>"
      ]
     },
     "metadata": {
      "needs_background": "light"
     },
     "output_type": "display_data"
    }
   ],
   "source": [
    "%matplotlib inline\n",
    "import matplotlib.pyplot as plt\n",
    "import matplotlib.patches as mpatches\n",
    "\n",
    "# set up legend\n",
    "blue_patch = mpatches.Patch(color='blue', label='Train Accuracy [Maximize]')\n",
    "plt.legend(handles=[blue_patch])\n",
    "\n",
    "#plot the data\n",
    "plt.plot(history.history['acc'], color='blue')\n",
    "plt.ylabel('score');"
   ]
  },
  {
   "cell_type": "markdown",
   "metadata": {},
   "source": [
    "##### VISUALIZE THE LOSS EVOLUTION"
   ]
  },
  {
   "cell_type": "code",
   "execution_count": 12,
   "metadata": {},
   "outputs": [
    {
     "data": {
      "image/png": "[encoded data removed]",
      "text/plain": [
       "<Figure size 432x288 with 1 Axes>"
      ]
     },
     "metadata": {
      "needs_background": "light"
     },
     "output_type": "display_data"
    }
   ],
   "source": [
    "# set up legend\n",
    "green_patch = mpatches.Patch(color='green', label='Avg Loss [Minimize]')\n",
    "plt.legend(handles=[green_patch])\n",
    "\n",
    "#plot the data\n",
    "plt.plot(history.history['loss'], color='green')\n",
    "\n",
    "plt.xlabel('epochs')\n",
    "plt.ylabel('score');"
   ]
  },
  {
   "cell_type": "markdown",
   "metadata": {},
   "source": [
    "##### SAVE MODEL FOR FUTURE RESTORE"
   ]
  },
  {
   "cell_type": "code",
   "execution_count": 13,
   "metadata": {},
   "outputs": [],
   "source": [
    "import os\n",
    "\n",
    "# create dir folders if they don't exits\n",
    "os.makedirs('output/keras_checkpoints', exist_ok=True)\n",
    "\n",
    "# save the trained model\n",
    "model.save('output/keras_checkpoints/mlp_wine_keras.h5')"
   ]
  },
  {
   "cell_type": "markdown",
   "metadata": {},
   "source": [
    "##### LOAD PRETRAINED MODEL"
   ]
  },
  {
   "cell_type": "code",
   "execution_count": 14,
   "metadata": {},
   "outputs": [],
   "source": [
    "model.load_weights('output/keras_checkpoints/mlp_wine_keras.h5')"
   ]
  },
  {
   "cell_type": "markdown",
   "metadata": {},
   "source": [
    "##### TESTING PRETRAINED MODEL"
   ]
  },
  {
   "cell_type": "code",
   "execution_count": 15,
   "metadata": {},
   "outputs": [
    {
     "name": "stdout",
     "output_type": "stream",
     "text": [
      "\n",
      "\n",
      "Printing results :\n",
      "\n",
      "     Prediction  Target   Hit\n",
      "0            2       2  True\n",
      "1            0       0  True\n",
      "2            2       2  True\n",
      "3            1       1  True\n",
      "4            1       1  True\n",
      "5            1       1  True\n",
      "6            2       2  True\n",
      "7            0       0  True\n",
      "8            1       1  True\n",
      "9            1       1  True\n",
      "10           0       0  True\n",
      "11           0       0  True\n",
      "12           2       2  True\n",
      "13           1       1  True\n",
      "14           2       2  True\n",
      "15           1       1  True\n",
      "16           1       1  True\n",
      "17           0       0  True\n",
      "18           0       0  True\n",
      "19           1       1  True\n",
      "20           2       2  True\n",
      "21           1       1  True\n",
      "22           0       0  True\n",
      "23           0       0  True\n",
      "24           2       2  True\n",
      "25           1       1  True\n",
      "26           2       2  True\n",
      "27           1       1  True\n",
      "28           0       0  True\n",
      "29           2       2  True\n",
      "30           1       1  True\n",
      "31           1       1  True\n",
      "32           0       0  True\n",
      "33           1       1  True\n",
      "34           0       0  True\n",
      "35           0       0  True\n"
     ]
    }
   ],
   "source": [
    "dataframe = pd.DataFrame(np.argmax(predictions,1), columns=['Prediction'])\n",
    "dataframe['Target'] = np.argmax(y_test, 1)\n",
    "dataframe['Hit'] = np.equal(dataframe.Target, dataframe.Prediction)\n",
    "print('\\n\\nPrinting results :\\n\\n', dataframe)"
   ]
  },
  {
   "cell_type": "code",
   "execution_count": null,
   "metadata": {},
   "outputs": [],
   "source": []
  }
 ],
 "metadata": {
  "kernelspec": {
   "display_name": "Python 3",
   "language": "python",
   "name": "python3"
  },
  "language_info": {
   "codemirror_mode": {
    "name": "ipython",
    "version": 3
   },
   "file_extension": ".py",
   "mimetype": "text/x-python",
   "name": "python",
   "nbconvert_exporter": "python",
   "pygments_lexer": "ipython3",
   "version": "3.5.6"
  }
 },
 "nbformat": 4,
 "nbformat_minor": 2
}

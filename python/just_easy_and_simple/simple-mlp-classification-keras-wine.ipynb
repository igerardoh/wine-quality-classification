{
 "cells": [
  {
   "cell_type": "markdown",
   "metadata": {},
   "source": [
    "# Wine Quality Classifier"
   ]
  },
  {
   "cell_type": "markdown",
   "metadata": {},
   "source": [
    "<p><b>Status: <span style=color:orange;>In process</span></b></p>"
   ]
  },
  {
   "cell_type": "markdown",
   "metadata": {},
   "source": [
    "##### LOAD THE FEATURE DATA"
   ]
  },
  {
   "cell_type": "code",
   "execution_count": 1,
   "metadata": {},
   "outputs": [
    {
     "name": "stdout",
     "output_type": "stream",
     "text": [
      "Feature data, shape:\n",
      "X: (178, 13)\n"
     ]
    },
    {
     "data": {
      "text/html": [
       "<div>\n",
       "<style scoped>\n",
       "    .dataframe tbody tr th:only-of-type {\n",
       "        vertical-align: middle;\n",
       "    }\n",
       "\n",
       "    .dataframe tbody tr th {\n",
       "        vertical-align: top;\n",
       "    }\n",
       "\n",
       "    .dataframe thead th {\n",
       "        text-align: right;\n",
       "    }\n",
       "</style>\n",
       "<table border=\"1\" class=\"dataframe\">\n",
       "  <thead>\n",
       "    <tr style=\"text-align: right;\">\n",
       "      <th></th>\n",
       "      <th>Alcohol</th>\n",
       "      <th>Malic_acid</th>\n",
       "      <th>Ash</th>\n",
       "      <th>Alcalinity</th>\n",
       "      <th>Magnesium</th>\n",
       "      <th>Total_phenols</th>\n",
       "      <th>Flavanoids</th>\n",
       "      <th>Nonflavanoid_phenols</th>\n",
       "      <th>Proanthocyanins</th>\n",
       "      <th>Color_intensity</th>\n",
       "      <th>Hue</th>\n",
       "      <th>OD280_OD315</th>\n",
       "      <th>Proline</th>\n",
       "    </tr>\n",
       "  </thead>\n",
       "  <tbody>\n",
       "    <tr>\n",
       "      <th>0</th>\n",
       "      <td>1.518613</td>\n",
       "      <td>-0.562250</td>\n",
       "      <td>0.232053</td>\n",
       "      <td>-1.169593</td>\n",
       "      <td>1.913905</td>\n",
       "      <td>0.808997</td>\n",
       "      <td>1.034819</td>\n",
       "      <td>-0.659563</td>\n",
       "      <td>1.224884</td>\n",
       "      <td>0.251717</td>\n",
       "      <td>0.362177</td>\n",
       "      <td>1.847920</td>\n",
       "      <td>1.013009</td>\n",
       "    </tr>\n",
       "    <tr>\n",
       "      <th>1</th>\n",
       "      <td>0.246290</td>\n",
       "      <td>-0.499413</td>\n",
       "      <td>-0.827996</td>\n",
       "      <td>-2.490847</td>\n",
       "      <td>0.018145</td>\n",
       "      <td>0.568648</td>\n",
       "      <td>0.733629</td>\n",
       "      <td>-0.820719</td>\n",
       "      <td>-0.544721</td>\n",
       "      <td>-0.293321</td>\n",
       "      <td>0.406051</td>\n",
       "      <td>1.113449</td>\n",
       "      <td>0.965242</td>\n",
       "    </tr>\n",
       "    <tr>\n",
       "      <th>2</th>\n",
       "      <td>0.196879</td>\n",
       "      <td>0.021231</td>\n",
       "      <td>1.109334</td>\n",
       "      <td>-0.268738</td>\n",
       "      <td>0.088358</td>\n",
       "      <td>0.808997</td>\n",
       "      <td>1.215533</td>\n",
       "      <td>-0.498407</td>\n",
       "      <td>2.135968</td>\n",
       "      <td>0.269020</td>\n",
       "      <td>0.318304</td>\n",
       "      <td>0.788587</td>\n",
       "      <td>1.395148</td>\n",
       "    </tr>\n",
       "    <tr>\n",
       "      <th>3</th>\n",
       "      <td>1.691550</td>\n",
       "      <td>-0.346811</td>\n",
       "      <td>0.487926</td>\n",
       "      <td>-0.809251</td>\n",
       "      <td>0.930918</td>\n",
       "      <td>2.491446</td>\n",
       "      <td>1.466525</td>\n",
       "      <td>-0.981875</td>\n",
       "      <td>1.032155</td>\n",
       "      <td>1.186068</td>\n",
       "      <td>-0.427544</td>\n",
       "      <td>1.184071</td>\n",
       "      <td>2.334574</td>\n",
       "    </tr>\n",
       "    <tr>\n",
       "      <th>4</th>\n",
       "      <td>0.295700</td>\n",
       "      <td>0.227694</td>\n",
       "      <td>1.840403</td>\n",
       "      <td>0.451946</td>\n",
       "      <td>1.281985</td>\n",
       "      <td>0.808997</td>\n",
       "      <td>0.663351</td>\n",
       "      <td>0.226796</td>\n",
       "      <td>0.401404</td>\n",
       "      <td>-0.319276</td>\n",
       "      <td>0.362177</td>\n",
       "      <td>0.449601</td>\n",
       "      <td>-0.037874</td>\n",
       "    </tr>\n",
       "  </tbody>\n",
       "</table>\n",
       "</div>"
      ],
      "text/plain": [
       "    Alcohol  Malic_acid       Ash  Alcalinity  Magnesium  Total_phenols  \\\n",
       "0  1.518613   -0.562250  0.232053   -1.169593   1.913905       0.808997   \n",
       "1  0.246290   -0.499413 -0.827996   -2.490847   0.018145       0.568648   \n",
       "2  0.196879    0.021231  1.109334   -0.268738   0.088358       0.808997   \n",
       "3  1.691550   -0.346811  0.487926   -0.809251   0.930918       2.491446   \n",
       "4  0.295700    0.227694  1.840403    0.451946   1.281985       0.808997   \n",
       "\n",
       "   Flavanoids  Nonflavanoid_phenols  Proanthocyanins  Color_intensity  \\\n",
       "0    1.034819             -0.659563         1.224884         0.251717   \n",
       "1    0.733629             -0.820719        -0.544721        -0.293321   \n",
       "2    1.215533             -0.498407         2.135968         0.269020   \n",
       "3    1.466525             -0.981875         1.032155         1.186068   \n",
       "4    0.663351              0.226796         0.401404        -0.319276   \n",
       "\n",
       "        Hue  OD280_OD315   Proline  \n",
       "0  0.362177     1.847920  1.013009  \n",
       "1  0.406051     1.113449  0.965242  \n",
       "2  0.318304     0.788587  1.395148  \n",
       "3 -0.427544     1.184071  2.334574  \n",
       "4  0.362177     0.449601 -0.037874  "
      ]
     },
     "execution_count": 1,
     "metadata": {},
     "output_type": "execute_result"
    }
   ],
   "source": [
    "import pandas as pd\n",
    "import numpy as np\n",
    "\n",
    "X = pd.read_csv('../../../data/preprocessed_data/X.csv', sep=',')\n",
    "\n",
    "print ('Feature data, shape:\\nX: {}'.format(X.shape))\n",
    "X.head()"
   ]
  },
  {
   "cell_type": "markdown",
   "metadata": {},
   "source": [
    "##### DATA OVERVIEW"
   ]
  },
  {
   "cell_type": "code",
   "execution_count": 2,
   "metadata": {},
   "outputs": [
    {
     "name": "stdout",
     "output_type": "stream",
     "text": [
      "Target data, shape:\n",
      "y: (178, 13)\n"
     ]
    },
    {
     "data": {
      "text/html": [
       "<div>\n",
       "<style scoped>\n",
       "    .dataframe tbody tr th:only-of-type {\n",
       "        vertical-align: middle;\n",
       "    }\n",
       "\n",
       "    .dataframe tbody tr th {\n",
       "        vertical-align: top;\n",
       "    }\n",
       "\n",
       "    .dataframe thead th {\n",
       "        text-align: right;\n",
       "    }\n",
       "</style>\n",
       "<table border=\"1\" class=\"dataframe\">\n",
       "  <thead>\n",
       "    <tr style=\"text-align: right;\">\n",
       "      <th></th>\n",
       "      <th>1</th>\n",
       "      <th>2</th>\n",
       "      <th>3</th>\n",
       "    </tr>\n",
       "  </thead>\n",
       "  <tbody>\n",
       "    <tr>\n",
       "      <th>0</th>\n",
       "      <td>1</td>\n",
       "      <td>0</td>\n",
       "      <td>0</td>\n",
       "    </tr>\n",
       "    <tr>\n",
       "      <th>1</th>\n",
       "      <td>1</td>\n",
       "      <td>0</td>\n",
       "      <td>0</td>\n",
       "    </tr>\n",
       "    <tr>\n",
       "      <th>2</th>\n",
       "      <td>1</td>\n",
       "      <td>0</td>\n",
       "      <td>0</td>\n",
       "    </tr>\n",
       "    <tr>\n",
       "      <th>3</th>\n",
       "      <td>1</td>\n",
       "      <td>0</td>\n",
       "      <td>0</td>\n",
       "    </tr>\n",
       "    <tr>\n",
       "      <th>4</th>\n",
       "      <td>1</td>\n",
       "      <td>0</td>\n",
       "      <td>0</td>\n",
       "    </tr>\n",
       "  </tbody>\n",
       "</table>\n",
       "</div>"
      ],
      "text/plain": [
       "   1  2  3\n",
       "0  1  0  0\n",
       "1  1  0  0\n",
       "2  1  0  0\n",
       "3  1  0  0\n",
       "4  1  0  0"
      ]
     },
     "execution_count": 2,
     "metadata": {},
     "output_type": "execute_result"
    }
   ],
   "source": [
    "y = pd.read_csv('../../../data/preprocessed_data/y.csv', sep=',')\n",
    "\n",
    "print ('Target data, shape:\\ny: {}'.format(X.shape))\n",
    "y.head()"
   ]
  },
  {
   "cell_type": "markdown",
   "metadata": {},
   "source": [
    "##### SPLIT THE DATA"
   ]
  },
  {
   "cell_type": "code",
   "execution_count": 3,
   "metadata": {},
   "outputs": [
    {
     "name": "stdout",
     "output_type": "stream",
     "text": [
      "Data shapes:\n",
      "\n",
      "X_train : (142, 13)\n",
      "y_train : (142, 3)\n",
      "\n",
      "X_test : (36, 13)\n",
      "y_test : (36, 3)\n"
     ]
    }
   ],
   "source": [
    "from sklearn.model_selection import train_test_split\n",
    "\n",
    "# set the seed for reproducibility\n",
    "np.random.seed(127)\n",
    "\n",
    "# split the dataset into 2 training and 2 testing sets\n",
    "X_train, X_test, y_train, y_test = train_test_split(X.values, y.values, test_size=0.2, random_state=13)\n",
    "\n",
    "print('Data shapes:\\n')\n",
    "print('X_train : {}\\ny_train : {}\\n\\nX_test : {}\\ny_test : {}'.format(X_train.shape,\n",
    "                                                                      y_train.shape,\n",
    "                                                                      X_test.shape,\n",
    "                                                                      y_test.shape))"
   ]
  },
  {
   "cell_type": "markdown",
   "metadata": {},
   "source": [
    "##### DEFINE NETWORK PARAMETERS"
   ]
  },
  {
   "cell_type": "code",
   "execution_count": 4,
   "metadata": {},
   "outputs": [],
   "source": [
    "# define number of attributes\n",
    "n_features = X_train.shape[1]    \n",
    "n_classes = y_train.shape[1]\n",
    "\n",
    "# count number of samples in each set of data\n",
    "n_train = X_train.shape[0]\n",
    "n_test = X_test.shape[0]\n",
    "\n",
    "# define amount of neurons\n",
    "n_layer_in = n_features  # 11 neurons in input layer\n",
    "n_layer_h1 = 50          # first   hidden layer\n",
    "n_layer_h2 = 50          # second  hidden layer\n",
    "n_layer_out = n_classes  # 7 neurons in input layer\n",
    "\n",
    "sigma_init = 0.01   # For randomized initialization"
   ]
  },
  {
   "cell_type": "markdown",
   "metadata": {},
   "source": [
    "##### MODEL ARCHITECTURE"
   ]
  },
  {
   "cell_type": "code",
   "execution_count": 5,
   "metadata": {
    "scrolled": false
   },
   "outputs": [
    {
     "name": "stderr",
     "output_type": "stream",
     "text": [
      "Using TensorFlow backend.\n"
     ]
    },
    {
     "name": "stdout",
     "output_type": "stream",
     "text": [
      "Epoch 1/100\n",
      "142/142 [==============================] - 0s 859us/step - loss: 0.9214 - acc: 0.5141\n",
      "Epoch 2/100\n",
      "142/142 [==============================] - 0s 28us/step - loss: 0.7164 - acc: 0.7887\n",
      "Epoch 3/100\n",
      "142/142 [==============================] - 0s 35us/step - loss: 0.5977 - acc: 0.8944\n",
      "Epoch 4/100\n",
      "142/142 [==============================] - 0s 28us/step - loss: 0.5047 - acc: 0.9225\n",
      "Epoch 5/100\n",
      "142/142 [==============================] - 0s 28us/step - loss: 0.4232 - acc: 0.9366\n",
      "Epoch 6/100\n",
      "142/142 [==============================] - 0s 21us/step - loss: 0.3551 - acc: 0.9577\n",
      "Epoch 7/100\n",
      "142/142 [==============================] - 0s 28us/step - loss: 0.2952 - acc: 0.9718\n",
      "Epoch 8/100\n",
      "142/142 [==============================] - 0s 28us/step - loss: 0.2458 - acc: 0.9789\n",
      "Epoch 9/100\n",
      "142/142 [==============================] - 0s 28us/step - loss: 0.2076 - acc: 0.9859\n",
      "Epoch 10/100\n",
      "142/142 [==============================] - 0s 21us/step - loss: 0.1720 - acc: 0.9859\n",
      "Epoch 11/100\n",
      "142/142 [==============================] - 0s 28us/step - loss: 0.1457 - acc: 0.9859\n",
      "Epoch 12/100\n",
      "142/142 [==============================] - 0s 21us/step - loss: 0.1240 - acc: 0.9930\n",
      "Epoch 13/100\n",
      "142/142 [==============================] - 0s 28us/step - loss: 0.1058 - acc: 0.9930\n",
      "Epoch 14/100\n",
      "142/142 [==============================] - 0s 28us/step - loss: 0.0895 - acc: 0.9930\n",
      "Epoch 15/100\n",
      "142/142 [==============================] - 0s 28us/step - loss: 0.0767 - acc: 0.9930\n",
      "Epoch 16/100\n",
      "142/142 [==============================] - 0s 21us/step - loss: 0.0666 - acc: 1.0000\n",
      "Epoch 17/100\n",
      "142/142 [==============================] - 0s 28us/step - loss: 0.0571 - acc: 1.0000\n",
      "Epoch 18/100\n",
      "142/142 [==============================] - 0s 28us/step - loss: 0.0489 - acc: 1.0000\n",
      "Epoch 19/100\n",
      "142/142 [==============================] - 0s 28us/step - loss: 0.0427 - acc: 0.9930\n",
      "Epoch 20/100\n",
      "142/142 [==============================] - 0s 28us/step - loss: 0.0363 - acc: 1.0000\n",
      "Epoch 21/100\n",
      "142/142 [==============================] - 0s 21us/step - loss: 0.0323 - acc: 1.0000\n",
      "Epoch 22/100\n",
      "142/142 [==============================] - 0s 28us/step - loss: 0.0272 - acc: 1.0000\n",
      "Epoch 23/100\n",
      "142/142 [==============================] - 0s 28us/step - loss: 0.0235 - acc: 1.0000\n",
      "Epoch 24/100\n",
      "142/142 [==============================] - 0s 28us/step - loss: 0.0212 - acc: 1.0000\n",
      "Epoch 25/100\n",
      "142/142 [==============================] - 0s 28us/step - loss: 0.0186 - acc: 1.0000\n",
      "Epoch 26/100\n",
      "142/142 [==============================] - 0s 28us/step - loss: 0.0158 - acc: 1.0000\n",
      "Epoch 27/100\n",
      "142/142 [==============================] - 0s 28us/step - loss: 0.0136 - acc: 1.0000\n",
      "Epoch 28/100\n",
      "142/142 [==============================] - 0s 28us/step - loss: 0.0116 - acc: 1.0000\n",
      "Epoch 29/100\n",
      "142/142 [==============================] - 0s 21us/step - loss: 0.0104 - acc: 1.0000\n",
      "Epoch 30/100\n",
      "142/142 [==============================] - 0s 21us/step - loss: 0.0091 - acc: 1.0000\n",
      "Epoch 31/100\n",
      "142/142 [==============================] - 0s 28us/step - loss: 0.0076 - acc: 1.0000\n",
      "Epoch 32/100\n",
      "142/142 [==============================] - 0s 28us/step - loss: 0.0063 - acc: 1.0000\n",
      "Epoch 33/100\n",
      "142/142 [==============================] - 0s 21us/step - loss: 0.0055 - acc: 1.0000\n",
      "Epoch 34/100\n",
      "142/142 [==============================] - 0s 28us/step - loss: 0.0049 - acc: 1.0000\n",
      "Epoch 35/100\n",
      "142/142 [==============================] - 0s 21us/step - loss: 0.0040 - acc: 1.0000\n",
      "Epoch 36/100\n",
      "142/142 [==============================] - 0s 28us/step - loss: 0.0034 - acc: 1.0000\n",
      "Epoch 37/100\n",
      "142/142 [==============================] - 0s 28us/step - loss: 0.0034 - acc: 1.0000\n",
      "Epoch 38/100\n",
      "142/142 [==============================] - 0s 35us/step - loss: 0.0026 - acc: 1.0000\n",
      "Epoch 39/100\n",
      "142/142 [==============================] - 0s 21us/step - loss: 0.0023 - acc: 1.0000\n",
      "Epoch 40/100\n",
      "142/142 [==============================] - 0s 28us/step - loss: 0.0019 - acc: 1.0000\n",
      "Epoch 41/100\n",
      "142/142 [==============================] - 0s 28us/step - loss: 0.0017 - acc: 1.0000\n",
      "Epoch 42/100\n",
      "142/142 [==============================] - 0s 28us/step - loss: 0.0014 - acc: 1.0000\n",
      "Epoch 43/100\n",
      "142/142 [==============================] - 0s 21us/step - loss: 0.0013 - acc: 1.0000\n",
      "Epoch 44/100\n",
      "142/142 [==============================] - 0s 28us/step - loss: 0.0011 - acc: 1.0000\n",
      "Epoch 45/100\n",
      "142/142 [==============================] - 0s 21us/step - loss: 8.7245e-04 - acc: 1.0000\n",
      "Epoch 46/100\n",
      "142/142 [==============================] - 0s 28us/step - loss: 8.1034e-04 - acc: 1.0000\n",
      "Epoch 47/100\n",
      "142/142 [==============================] - 0s 21us/step - loss: 6.5722e-04 - acc: 1.0000\n",
      "Epoch 48/100\n",
      "142/142 [==============================] - 0s 28us/step - loss: 5.6380e-04 - acc: 1.0000\n",
      "Epoch 49/100\n",
      "142/142 [==============================] - 0s 28us/step - loss: 4.9272e-04 - acc: 1.0000\n",
      "Epoch 50/100\n",
      "142/142 [==============================] - 0s 28us/step - loss: 3.8453e-04 - acc: 1.0000\n",
      "Epoch 51/100\n",
      "142/142 [==============================] - 0s 28us/step - loss: 3.2804e-04 - acc: 1.0000\n",
      "Epoch 52/100\n",
      "142/142 [==============================] - 0s 21us/step - loss: 2.8428e-04 - acc: 1.0000\n",
      "Epoch 53/100\n",
      "142/142 [==============================] - 0s 35us/step - loss: 2.7693e-04 - acc: 1.0000\n",
      "Epoch 54/100\n",
      "142/142 [==============================] - 0s 28us/step - loss: 2.3103e-04 - acc: 1.0000\n",
      "Epoch 55/100\n",
      "142/142 [==============================] - 0s 28us/step - loss: 1.7742e-04 - acc: 1.0000\n",
      "Epoch 56/100\n",
      "142/142 [==============================] - 0s 28us/step - loss: 1.5737e-04 - acc: 1.0000\n",
      "Epoch 57/100\n",
      "142/142 [==============================] - 0s 28us/step - loss: 1.3201e-04 - acc: 1.0000\n",
      "Epoch 58/100\n",
      "142/142 [==============================] - 0s 28us/step - loss: 1.0184e-04 - acc: 1.0000\n",
      "Epoch 59/100\n",
      "142/142 [==============================] - 0s 28us/step - loss: 9.8096e-05 - acc: 1.0000\n",
      "Epoch 60/100\n",
      "142/142 [==============================] - 0s 28us/step - loss: 7.4971e-05 - acc: 1.0000\n",
      "Epoch 61/100\n",
      "142/142 [==============================] - 0s 21us/step - loss: 6.3372e-05 - acc: 1.0000\n",
      "Epoch 62/100\n",
      "142/142 [==============================] - 0s 28us/step - loss: 5.4432e-05 - acc: 1.0000\n",
      "Epoch 63/100\n",
      "142/142 [==============================] - 0s 21us/step - loss: 4.5818e-05 - acc: 1.0000\n",
      "Epoch 64/100\n",
      "142/142 [==============================] - 0s 28us/step - loss: 4.6683e-05 - acc: 1.0000\n",
      "Epoch 65/100\n",
      "142/142 [==============================] - 0s 21us/step - loss: 3.0000e-05 - acc: 1.0000\n",
      "Epoch 66/100\n",
      "142/142 [==============================] - 0s 28us/step - loss: 2.6138e-05 - acc: 1.0000\n",
      "Epoch 67/100\n",
      "142/142 [==============================] - 0s 21us/step - loss: 2.3332e-05 - acc: 1.0000\n",
      "Epoch 68/100\n",
      "142/142 [==============================] - 0s 28us/step - loss: 1.8015e-05 - acc: 1.0000\n",
      "Epoch 69/100\n",
      "142/142 [==============================] - 0s 21us/step - loss: 1.3915e-05 - acc: 1.0000\n",
      "Epoch 70/100\n",
      "142/142 [==============================] - 0s 28us/step - loss: 1.1512e-05 - acc: 1.0000\n",
      "Epoch 71/100\n",
      "142/142 [==============================] - 0s 35us/step - loss: 1.0315e-05 - acc: 1.0000\n",
      "Epoch 72/100\n",
      "142/142 [==============================] - 0s 28us/step - loss: 8.8998e-06 - acc: 1.0000\n",
      "Epoch 73/100\n",
      "142/142 [==============================] - 0s 28us/step - loss: 7.7175e-06 - acc: 1.0000\n",
      "Epoch 74/100\n",
      "142/142 [==============================] - 0s 35us/step - loss: 5.3101e-06 - acc: 1.0000\n",
      "Epoch 75/100\n",
      "142/142 [==============================] - 0s 28us/step - loss: 4.6762e-06 - acc: 1.0000\n",
      "Epoch 76/100\n",
      "142/142 [==============================] - 0s 28us/step - loss: 4.1389e-06 - acc: 1.0000\n",
      "Epoch 77/100\n",
      "142/142 [==============================] - 0s 28us/step - loss: 3.4110e-06 - acc: 1.0000\n",
      "Epoch 78/100\n",
      "142/142 [==============================] - 0s 28us/step - loss: 2.6243e-06 - acc: 1.0000\n",
      "Epoch 79/100\n",
      "142/142 [==============================] - 0s 28us/step - loss: 2.3653e-06 - acc: 1.0000\n",
      "Epoch 80/100\n",
      "142/142 [==============================] - 0s 28us/step - loss: 1.7768e-06 - acc: 1.0000\n",
      "Epoch 81/100\n",
      "142/142 [==============================] - 0s 35us/step - loss: 1.6715e-06 - acc: 1.0000\n",
      "Epoch 82/100\n",
      "142/142 [==============================] - 0s 21us/step - loss: 1.2920e-06 - acc: 1.0000\n",
      "Epoch 83/100\n"
     ]
    },
    {
     "name": "stdout",
     "output_type": "stream",
     "text": [
      "142/142 [==============================] - 0s 28us/step - loss: 1.2219e-06 - acc: 1.0000\n",
      "Epoch 84/100\n",
      "142/142 [==============================] - 0s 35us/step - loss: 8.5672e-07 - acc: 1.0000\n",
      "Epoch 85/100\n",
      "142/142 [==============================] - 0s 21us/step - loss: 8.0383e-07 - acc: 1.0000\n",
      "Epoch 86/100\n",
      "142/142 [==============================] - 0s 35us/step - loss: 6.2795e-07 - acc: 1.0000\n",
      "Epoch 87/100\n",
      "142/142 [==============================] - 0s 28us/step - loss: 5.9479e-07 - acc: 1.0000\n",
      "Epoch 88/100\n",
      "142/142 [==============================] - 0s 28us/step - loss: 4.8859e-07 - acc: 1.0000\n",
      "Epoch 89/100\n",
      "142/142 [==============================] - 0s 28us/step - loss: 4.0296e-07 - acc: 1.0000\n",
      "Epoch 90/100\n",
      "142/142 [==============================] - 0s 28us/step - loss: 3.5259e-07 - acc: 1.0000\n",
      "Epoch 91/100\n",
      "142/142 [==============================] - 0s 21us/step - loss: 3.3118e-07 - acc: 1.0000\n",
      "Epoch 92/100\n",
      "142/142 [==============================] - 0s 28us/step - loss: 3.3496e-07 - acc: 1.0000\n",
      "Epoch 93/100\n",
      "142/142 [==============================] - 0s 21us/step - loss: 2.7913e-07 - acc: 1.0000\n",
      "Epoch 94/100\n",
      "142/142 [==============================] - 0s 21us/step - loss: 2.3842e-07 - acc: 1.0000\n",
      "Epoch 95/100\n",
      "142/142 [==============================] - 0s 21us/step - loss: 2.2037e-07 - acc: 1.0000\n",
      "Epoch 96/100\n",
      "142/142 [==============================] - 0s 28us/step - loss: 2.1449e-07 - acc: 1.0000\n",
      "Epoch 97/100\n",
      "142/142 [==============================] - 0s 21us/step - loss: 2.0694e-07 - acc: 1.0000\n",
      "Epoch 98/100\n",
      "142/142 [==============================] - 0s 28us/step - loss: 1.9057e-07 - acc: 1.0000\n",
      "Epoch 99/100\n",
      "142/142 [==============================] - 0s 21us/step - loss: 1.7839e-07 - acc: 1.0000\n",
      "Epoch 100/100\n",
      "142/142 [==============================] - 0s 21us/step - loss: 1.6916e-07 - acc: 1.0000\n"
     ]
    },
    {
     "data": {
      "text/plain": [
       "<keras.callbacks.History at 0x1b2b8dfd9e8>"
      ]
     },
     "execution_count": 5,
     "metadata": {},
     "output_type": "execute_result"
    }
   ],
   "source": [
    "from keras.models import Sequential\n",
    "from keras.layers import Dense\n",
    "from keras.callbacks import History \n",
    "\n",
    "model = Sequential()\n",
    "model.add(Dense(n_layer_h1, activation='relu', input_shape=(n_features,)))\n",
    "model.add(Dense(n_layer_h2, activation='relu'))\n",
    "model.add(Dense(n_classes, activation='softmax'))\n",
    "\n",
    "# add model's configuration\n",
    "model.compile(optimizer='rmsprop', loss='categorical_crossentropy', metrics=['accuracy'])\n",
    "\n",
    "# add history function to \n",
    "history = History()\n",
    "model.fit(X_train, y_train, epochs=100, callbacks=[history])"
   ]
  },
  {
   "cell_type": "markdown",
   "metadata": {},
   "source": [
    "##### EVALUATE TESTING SET"
   ]
  },
  {
   "cell_type": "code",
   "execution_count": 17,
   "metadata": {},
   "outputs": [
    {
     "name": "stdout",
     "output_type": "stream",
     "text": [
      "36/36 [==============================] - 0s 82us/step\n",
      "\n",
      "Evaluate on test data \n",
      "\n",
      "(loss), (accuracy) :\n",
      "[0.18283655908372667, 0.9722222222222222]\n"
     ]
    }
   ],
   "source": [
    "# Evaluate the model on the test data using `evaluate`\n",
    "results = model.evaluate(X_test, y_test)\n",
    "\n",
    "print('\\nEvaluate on test data \\n\\n(loss), (accuracy) :\\n{}'.format(results))"
   ]
  },
  {
   "cell_type": "markdown",
   "metadata": {},
   "source": [
    "##### PRINTING RAW OUTPUT"
   ]
  },
  {
   "cell_type": "code",
   "execution_count": 10,
   "metadata": {},
   "outputs": [
    {
     "data": {
      "text/plain": [
       "array([[4.37886927e-09, 1.06920730e-07, 9.99999881e-01],\n",
       "       [1.00000000e+00, 2.51214566e-18, 3.70776073e-16],\n",
       "       [6.22188629e-12, 9.67127637e-13, 1.00000000e+00],\n",
       "       [1.00235264e-15, 1.00000000e+00, 7.94106358e-17],\n",
       "       [4.36819374e-12, 1.00000000e+00, 1.68205022e-12],\n",
       "       [1.78629296e-16, 1.00000000e+00, 1.21423960e-16],\n",
       "       [3.08973194e-11, 1.58080701e-11, 1.00000000e+00],\n",
       "       [9.99999642e-01, 3.30549454e-07, 3.95306632e-09],\n",
       "       [4.49111903e-15, 1.00000000e+00, 4.73423909e-15],\n",
       "       [2.37136733e-14, 1.00000000e+00, 1.84485131e-14],\n",
       "       [1.00000000e+00, 9.23916904e-18, 1.34989242e-17],\n",
       "       [1.00000000e+00, 2.15692349e-18, 4.75807606e-18],\n",
       "       [2.87800958e-14, 6.37068198e-13, 1.00000000e+00],\n",
       "       [3.49147658e-14, 1.00000000e+00, 4.28029499e-14],\n",
       "       [3.52695249e-13, 1.58354775e-14, 1.00000000e+00],\n",
       "       [2.67159628e-10, 1.00000000e+00, 7.83247599e-12],\n",
       "       [1.54254712e-12, 1.00000000e+00, 1.35825086e-12],\n",
       "       [1.00000000e+00, 4.95080964e-17, 1.95824107e-15],\n",
       "       [1.00000000e+00, 8.09134360e-09, 1.23273280e-09],\n",
       "       [9.53208029e-01, 1.38682337e-03, 4.54051681e-02],\n",
       "       [4.57469614e-05, 1.32594397e-03, 9.98628378e-01],\n",
       "       [3.73866413e-17, 1.00000000e+00, 3.40648263e-17],\n",
       "       [1.00000000e+00, 7.45255078e-15, 1.01008366e-14],\n",
       "       [1.00000000e+00, 3.26606566e-15, 7.55099583e-14],\n",
       "       [3.05150816e-13, 1.45437763e-12, 1.00000000e+00],\n",
       "       [4.55342083e-11, 1.00000000e+00, 1.13119861e-11],\n",
       "       [1.74941184e-09, 1.16091803e-09, 1.00000000e+00],\n",
       "       [9.87235264e-14, 1.00000000e+00, 4.90107536e-15],\n",
       "       [1.00000000e+00, 2.77007844e-14, 1.29068089e-13],\n",
       "       [7.92567509e-13, 8.82016086e-15, 1.00000000e+00],\n",
       "       [1.90132480e-16, 1.00000000e+00, 1.91753132e-16],\n",
       "       [2.41894441e-15, 1.00000000e+00, 8.80681331e-15],\n",
       "       [1.00000000e+00, 3.42949832e-23, 3.11109939e-21],\n",
       "       [3.21305546e-20, 1.00000000e+00, 1.30942715e-20],\n",
       "       [1.00000000e+00, 2.50324161e-09, 4.70650297e-10],\n",
       "       [1.00000000e+00, 3.75851600e-15, 2.23692863e-14]], dtype=float32)"
      ]
     },
     "execution_count": 10,
     "metadata": {},
     "output_type": "execute_result"
    }
   ],
   "source": [
    "predictions = model.predict(X_test)\n",
    "predictions"
   ]
  },
  {
   "cell_type": "markdown",
   "metadata": {},
   "source": [
    "##### PRINTING RESULTS"
   ]
  },
  {
   "cell_type": "code",
   "execution_count": 11,
   "metadata": {},
   "outputs": [
    {
     "name": "stdout",
     "output_type": "stream",
     "text": [
      "\n",
      "\n",
      "Printing results :\n",
      "\n",
      "     Prediction  Target    Hit\n",
      "0            2       2   True\n",
      "1            0       0   True\n",
      "2            2       2   True\n",
      "3            1       1   True\n",
      "4            1       1   True\n",
      "5            1       1   True\n",
      "6            2       2   True\n",
      "7            0       0   True\n",
      "8            1       1   True\n",
      "9            1       1   True\n",
      "10           0       0   True\n",
      "11           0       0   True\n",
      "12           2       2   True\n",
      "13           1       1   True\n",
      "14           2       2   True\n",
      "15           1       1   True\n",
      "16           1       1   True\n",
      "17           0       0   True\n",
      "18           0       0   True\n",
      "19           0       1  False\n",
      "20           2       2   True\n",
      "21           1       1   True\n",
      "22           0       0   True\n",
      "23           0       0   True\n",
      "24           2       2   True\n",
      "25           1       1   True\n",
      "26           2       2   True\n",
      "27           1       1   True\n",
      "28           0       0   True\n",
      "29           2       2   True\n",
      "30           1       1   True\n",
      "31           1       1   True\n",
      "32           0       0   True\n",
      "33           1       1   True\n",
      "34           0       0   True\n",
      "35           0       0   True\n"
     ]
    }
   ],
   "source": [
    "dataframe = pd.DataFrame(np.argmax(predictions,1), columns=['Prediction'])\n",
    "dataframe['Target'] = np.argmax(y_test, 1)\n",
    "dataframe['Hit'] = np.equal(dataframe.Target, dataframe.Prediction)\n",
    "print('\\n\\nPrinting results :\\n\\n', dataframe)"
   ]
  },
  {
   "cell_type": "code",
   "execution_count": 6,
   "metadata": {},
   "outputs": [
    {
     "name": "stdout",
     "output_type": "stream",
     "text": [
      "dict_keys(['acc', 'loss'])\n"
     ]
    }
   ],
   "source": [
    "print(history.history.keys())"
   ]
  },
  {
   "cell_type": "markdown",
   "metadata": {},
   "source": [
    "##### VISUALIZE THE RESULTS"
   ]
  },
  {
   "cell_type": "code",
   "execution_count": 7,
   "metadata": {},
   "outputs": [
    {
     "data": {
      "image/png": "[encoded data removed]",
      "text/plain": [
       "<Figure size 432x288 with 1 Axes>"
      ]
     },
     "metadata": {
      "needs_background": "light"
     },
     "output_type": "display_data"
    }
   ],
   "source": [
    "%matplotlib inline\n",
    "import matplotlib.pyplot as plt\n",
    "import matplotlib.patches as mpatches\n",
    "\n",
    "# set up legend\n",
    "blue_patch = mpatches.Patch(color='blue', label='Train Accuracy [Maximize]')\n",
    "plt.legend(handles=[blue_patch])\n",
    "\n",
    "#plot the data\n",
    "plt.plot(history.history['acc'], color='blue')\n",
    "plt.ylabel('score');"
   ]
  },
  {
   "cell_type": "markdown",
   "metadata": {},
   "source": [
    "##### VISUALIZE THE LOSS EVOLUTION"
   ]
  },
  {
   "cell_type": "code",
   "execution_count": 8,
   "metadata": {},
   "outputs": [
    {
     "data": {
      "image/png": "[encoded data removed]",
      "text/plain": [
       "<Figure size 432x288 with 1 Axes>"
      ]
     },
     "metadata": {
      "needs_background": "light"
     },
     "output_type": "display_data"
    }
   ],
   "source": [
    "%matplotlib inline\n",
    "import matplotlib.pyplot as plt\n",
    "import matplotlib.patches as mpatches\n",
    "\n",
    "# set up legend\n",
    "green_patch = mpatches.Patch(color='green', label='Avg Loss [Minimize]')\n",
    "plt.legend(handles=[green_patch])\n",
    "\n",
    "#plot the data\n",
    "plt.plot(history.history['loss'], color='green')\n",
    "\n",
    "plt.xlabel('epochs')\n",
    "plt.ylabel('score');"
   ]
  },
  {
   "cell_type": "code",
   "execution_count": null,
   "metadata": {},
   "outputs": [],
   "source": []
  }
 ],
 "metadata": {
  "kernelspec": {
   "display_name": "Python 3",
   "language": "python",
   "name": "python3"
  },
  "language_info": {
   "codemirror_mode": {
    "name": "ipython",
    "version": 3
   },
   "file_extension": ".py",
   "mimetype": "text/x-python",
   "name": "python",
   "nbconvert_exporter": "python",
   "pygments_lexer": "ipython3",
   "version": "3.5.6"
  }
 },
 "nbformat": 4,
 "nbformat_minor": 2
}
